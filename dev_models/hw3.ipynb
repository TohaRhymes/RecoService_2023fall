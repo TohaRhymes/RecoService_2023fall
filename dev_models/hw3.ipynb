{
 "cells": [
  {
   "cell_type": "code",
   "execution_count": 1,
   "id": "initial_id",
   "metadata": {
    "ExecuteTime": {
     "end_time": "2023-11-26T19:21:20.007715793Z",
     "start_time": "2023-11-26T19:21:18.291226287Z"
    }
   },
   "outputs": [],
   "source": [
    "import os\n",
    "from copy import deepcopy\n",
    "\n",
    "from implicit.nearest_neighbours import CosineRecommender, TFIDFRecommender, BM25Recommender\n",
    "import pandas as pd\n",
    "\n",
    "from rectools.dataset import Dataset\n",
    "from rectools.model_selection import TimeRangeSplitter\n",
    "from rectools.models import PopularModel, RandomModel\n",
    "from rectools.metrics import MAP, NDCG, Precision, Recall, MeanInvUserFreq, Serendipity\n",
    "import warnings\n",
    "\n",
    "from dev_eval import calculate_metrics, read_kion_dataset, visualize\n",
    "from userknn import UserKnn\n",
    "\n",
    "pd.set_option(\"display.max_columns\", None)\n",
    "warnings.filterwarnings(\"ignore\")"
   ]
  },
  {
   "cell_type": "markdown",
   "id": "e1770154f8fff68e",
   "metadata": {
    "collapsed": false,
    "jupyter": {
     "outputs_hidden": false
    }
   },
   "source": [
    "# Data\n",
    "\n",
    "Подгружаем датасет кион используя дополнительную функцию"
   ]
  },
  {
   "cell_type": "code",
   "execution_count": 2,
   "id": "d47c6f292beddd7f",
   "metadata": {
    "ExecuteTime": {
     "end_time": "2023-11-26T19:21:23.266476870Z",
     "start_time": "2023-11-26T19:21:20.873001451Z"
    },
    "collapsed": false,
    "jupyter": {
     "outputs_hidden": false
    }
   },
   "outputs": [],
   "source": [
    "kion_data = read_kion_dataset(fast_check=1)\n",
    "interactions = kion_data[\"interactions\"]\n",
    "users = kion_data[\"users\"]\n",
    "items = kion_data[\"items\"]"
   ]
  },
  {
   "cell_type": "markdown",
   "id": "22d419636f6030d8",
   "metadata": {
    "collapsed": false,
    "jupyter": {
     "outputs_hidden": false
    }
   },
   "source": [
    "# Гиперпараметры"
   ]
  },
  {
   "cell_type": "markdown",
   "id": "2fcbf41e57fd342c",
   "metadata": {
    "collapsed": false,
    "jupyter": {
     "outputs_hidden": false
    }
   },
   "source": [
    "Смотреть только на MAP скучно, поэтому давайте смотреть на все метрики, которые брали в прошлый раз, но только для `k_recos=10`, так как все равно рекомендуем 10."
   ]
  },
  {
   "cell_type": "code",
   "execution_count": 3,
   "id": "e1f0b994b5d5fde7",
   "metadata": {
    "ExecuteTime": {
     "end_time": "2023-11-26T19:21:23.283134499Z",
     "start_time": "2023-11-26T19:21:23.274894267Z"
    },
    "collapsed": false,
    "jupyter": {
     "outputs_hidden": false
    }
   },
   "outputs": [],
   "source": [
    "metrics = {\n",
    "    \"MAP@10\": MAP(k=10),\n",
    "    \"NDCG@10\": NDCG(k=10),\n",
    "    \"precision@10\": Precision(k=10),\n",
    "    \"recall@10\": Recall(k=10),\n",
    "    \"novelty@10\": MeanInvUserFreq(k=10),\n",
    "    \"serendipity@10\": Serendipity(k=10),\n",
    "}"
   ]
  },
  {
   "cell_type": "markdown",
   "id": "2cd474ced71a4e85",
   "metadata": {
    "collapsed": false,
    "jupyter": {
     "outputs_hidden": false
    }
   },
   "source": [
    "Сплиттер: \n",
    "* `rectools.model_selection.TimeRangeSplitter`,\n",
    "* 3 фолда на кросс-валидации\n",
    "* попробуем 7 и 14 дней\n"
   ]
  },
  {
   "cell_type": "code",
   "execution_count": 4,
   "id": "2bcbbd35f2cef845",
   "metadata": {
    "ExecuteTime": {
     "end_time": "2023-11-26T19:21:23.289348845Z",
     "start_time": "2023-11-26T19:21:23.284481069Z"
    },
    "collapsed": false,
    "jupyter": {
     "outputs_hidden": false
    }
   },
   "outputs": [],
   "source": [
    "cv_7d = TimeRangeSplitter(\n",
    "    test_size=\"7D\",  # по неделе\n",
    "    n_splits=3,  # 4 фолда для кросс-валидации\n",
    "    filter_already_seen=True,  # исключение просмотренных айтемов\n",
    "    filter_cold_items=True,  # исключение холодных айтемов\n",
    "    filter_cold_users=True,  #  исключение холодных юзеров\n",
    ")\n",
    "cv_14d = TimeRangeSplitter(\n",
    "    test_size=\"14D\",  # по неделе\n",
    "    n_splits=3,  # 4 фолда для кросс-валидации\n",
    "    filter_already_seen=True,  # исключение просмотренных айтемов\n",
    "    filter_cold_items=True,  # исключение холодных айтемов\n",
    "    filter_cold_users=True,  #  исключение холодных юзеров\n",
    ")"
   ]
  },
  {
   "cell_type": "code",
   "execution_count": 5,
   "id": "88939c853a6a9b68",
   "metadata": {
    "ExecuteTime": {
     "end_time": "2023-11-26T19:21:23.428325183Z",
     "start_time": "2023-11-26T19:21:23.383501183Z"
    },
    "collapsed": false,
    "jupyter": {
     "outputs_hidden": false
    }
   },
   "outputs": [],
   "source": [
    "k_recos = 10"
   ]
  },
  {
   "cell_type": "markdown",
   "id": "d17fbcfba3ef8dd0",
   "metadata": {
    "collapsed": false,
    "jupyter": {
     "outputs_hidden": false
    }
   },
   "source": [
    "# Популярное\n",
    "\n",
    "Будем использовать популярное:\n",
    "- как бейзлайн\n",
    "- лучший из популярного будем использовать в дополнение к юзеркнн для холодных порльзователей и в случае недостаточности рекомендаций."
   ]
  },
  {
   "cell_type": "code",
   "execution_count": 6,
   "id": "ee31da70-7d1c-45d4-bb22-0809a6339c8c",
   "metadata": {},
   "outputs": [],
   "source": [
    "models_popular = {\n",
    "    \"popular__n_users\": PopularModel(popularity=\"n_users\"),\n",
    "    \"popular__n_interactions\": PopularModel(popularity=\"n_interactions\"),\n",
    "    \"popular__mean_weight\": PopularModel(popularity=\"mean_weight\"),\n",
    "}"
   ]
  },
  {
   "cell_type": "code",
   "execution_count": 7,
   "id": "78ca7447fc4b12c2",
   "metadata": {
    "ExecuteTime": {
     "end_time": "2023-11-26T19:22:16.961168177Z",
     "start_time": "2023-11-26T19:22:16.841165224Z"
    },
    "collapsed": false,
    "jupyter": {
     "outputs_hidden": false
    }
   },
   "outputs": [
    {
     "data": {
      "application/vnd.jupyter.widget-view+json": {
       "model_id": "9051b3205b2742b5b69c889961024003",
       "version_major": 2,
       "version_minor": 0
      },
      "text/plain": [
       "  0%|          | 0/3 [00:00<?, ?it/s]"
      ]
     },
     "metadata": {},
     "output_type": "display_data"
    },
    {
     "data": {
      "text/html": [
       "<style type=\"text/css\">\n",
       "#T_e1be7_row0_col0, #T_e1be7_row0_col2, #T_e1be7_row0_col4, #T_e1be7_row0_col6, #T_e1be7_row1_col8, #T_e1be7_row1_col10, #T_e1be7_row2_col8, #T_e1be7_row2_col10 {\n",
       "  background-color: #da3b46;\n",
       "  color: #f1f1f1;\n",
       "}\n",
       "#T_e1be7_row0_col8, #T_e1be7_row0_col10, #T_e1be7_row1_col0, #T_e1be7_row1_col2, #T_e1be7_row1_col4, #T_e1be7_row1_col6, #T_e1be7_row2_col0, #T_e1be7_row2_col2, #T_e1be7_row2_col4, #T_e1be7_row2_col6 {\n",
       "  background-color: #398649;\n",
       "  color: #f1f1f1;\n",
       "}\n",
       "</style>\n",
       "<table id=\"T_e1be7\">\n",
       "  <thead>\n",
       "    <tr>\n",
       "      <th class=\"index_name level0\" >Metric</th>\n",
       "      <th id=\"T_e1be7_level0_col0\" class=\"col_heading level0 col0\" colspan=\"2\">MAP</th>\n",
       "      <th id=\"T_e1be7_level0_col2\" class=\"col_heading level0 col2\" colspan=\"2\">NDCG</th>\n",
       "      <th id=\"T_e1be7_level0_col4\" class=\"col_heading level0 col4\" colspan=\"2\">precision</th>\n",
       "      <th id=\"T_e1be7_level0_col6\" class=\"col_heading level0 col6\" colspan=\"2\">recall</th>\n",
       "      <th id=\"T_e1be7_level0_col8\" class=\"col_heading level0 col8\" colspan=\"2\">novelty</th>\n",
       "      <th id=\"T_e1be7_level0_col10\" class=\"col_heading level0 col10\" colspan=\"2\">serendipity</th>\n",
       "    </tr>\n",
       "    <tr>\n",
       "      <th class=\"index_name level1\" >At</th>\n",
       "      <th id=\"T_e1be7_level1_col0\" class=\"col_heading level1 col0\" colspan=\"2\">10</th>\n",
       "      <th id=\"T_e1be7_level1_col2\" class=\"col_heading level1 col2\" colspan=\"2\">10</th>\n",
       "      <th id=\"T_e1be7_level1_col4\" class=\"col_heading level1 col4\" colspan=\"2\">10</th>\n",
       "      <th id=\"T_e1be7_level1_col6\" class=\"col_heading level1 col6\" colspan=\"2\">10</th>\n",
       "      <th id=\"T_e1be7_level1_col8\" class=\"col_heading level1 col8\" colspan=\"2\">10</th>\n",
       "      <th id=\"T_e1be7_level1_col10\" class=\"col_heading level1 col10\" colspan=\"2\">10</th>\n",
       "    </tr>\n",
       "    <tr>\n",
       "      <th class=\"index_name level2\" >Stat</th>\n",
       "      <th id=\"T_e1be7_level2_col0\" class=\"col_heading level2 col0\" >mean</th>\n",
       "      <th id=\"T_e1be7_level2_col1\" class=\"col_heading level2 col1\" >std</th>\n",
       "      <th id=\"T_e1be7_level2_col2\" class=\"col_heading level2 col2\" >mean</th>\n",
       "      <th id=\"T_e1be7_level2_col3\" class=\"col_heading level2 col3\" >std</th>\n",
       "      <th id=\"T_e1be7_level2_col4\" class=\"col_heading level2 col4\" >mean</th>\n",
       "      <th id=\"T_e1be7_level2_col5\" class=\"col_heading level2 col5\" >std</th>\n",
       "      <th id=\"T_e1be7_level2_col6\" class=\"col_heading level2 col6\" >mean</th>\n",
       "      <th id=\"T_e1be7_level2_col7\" class=\"col_heading level2 col7\" >std</th>\n",
       "      <th id=\"T_e1be7_level2_col8\" class=\"col_heading level2 col8\" >mean</th>\n",
       "      <th id=\"T_e1be7_level2_col9\" class=\"col_heading level2 col9\" >std</th>\n",
       "      <th id=\"T_e1be7_level2_col10\" class=\"col_heading level2 col10\" >mean</th>\n",
       "      <th id=\"T_e1be7_level2_col11\" class=\"col_heading level2 col11\" >std</th>\n",
       "    </tr>\n",
       "    <tr>\n",
       "      <th class=\"index_name level0\" >model</th>\n",
       "      <th class=\"blank col0\" >&nbsp;</th>\n",
       "      <th class=\"blank col1\" >&nbsp;</th>\n",
       "      <th class=\"blank col2\" >&nbsp;</th>\n",
       "      <th class=\"blank col3\" >&nbsp;</th>\n",
       "      <th class=\"blank col4\" >&nbsp;</th>\n",
       "      <th class=\"blank col5\" >&nbsp;</th>\n",
       "      <th class=\"blank col6\" >&nbsp;</th>\n",
       "      <th class=\"blank col7\" >&nbsp;</th>\n",
       "      <th class=\"blank col8\" >&nbsp;</th>\n",
       "      <th class=\"blank col9\" >&nbsp;</th>\n",
       "      <th class=\"blank col10\" >&nbsp;</th>\n",
       "      <th class=\"blank col11\" >&nbsp;</th>\n",
       "    </tr>\n",
       "  </thead>\n",
       "  <tbody>\n",
       "    <tr>\n",
       "      <th id=\"T_e1be7_level0_row0\" class=\"row_heading level0 row0\" >popular__mean_weight</th>\n",
       "      <td id=\"T_e1be7_row0_col0\" class=\"data row0 col0\" >0.000004</td>\n",
       "      <td id=\"T_e1be7_row0_col1\" class=\"data row0 col1\" >0.000003</td>\n",
       "      <td id=\"T_e1be7_row0_col2\" class=\"data row0 col2\" >0.000002</td>\n",
       "      <td id=\"T_e1be7_row0_col3\" class=\"data row0 col3\" >0.000001</td>\n",
       "      <td id=\"T_e1be7_row0_col4\" class=\"data row0 col4\" >0.000003</td>\n",
       "      <td id=\"T_e1be7_row0_col5\" class=\"data row0 col5\" >0.000000</td>\n",
       "      <td id=\"T_e1be7_row0_col6\" class=\"data row0 col6\" >0.000016</td>\n",
       "      <td id=\"T_e1be7_row0_col7\" class=\"data row0 col7\" >0.000010</td>\n",
       "      <td id=\"T_e1be7_row0_col8\" class=\"data row0 col8\" >18.563409</td>\n",
       "      <td id=\"T_e1be7_row0_col9\" class=\"data row0 col9\" >0.051314</td>\n",
       "      <td id=\"T_e1be7_row0_col10\" class=\"data row0 col10\" >0.000000</td>\n",
       "      <td id=\"T_e1be7_row0_col11\" class=\"data row0 col11\" >0.000000</td>\n",
       "    </tr>\n",
       "    <tr>\n",
       "      <th id=\"T_e1be7_level0_row1\" class=\"row_heading level0 row1\" >popular__n_interactions</th>\n",
       "      <td id=\"T_e1be7_row1_col0\" class=\"data row1 col0\" >0.068934</td>\n",
       "      <td id=\"T_e1be7_row1_col1\" class=\"data row1 col1\" >0.004929</td>\n",
       "      <td id=\"T_e1be7_row1_col2\" class=\"data row1 col2\" >0.036913</td>\n",
       "      <td id=\"T_e1be7_row1_col3\" class=\"data row1 col3\" >0.002218</td>\n",
       "      <td id=\"T_e1be7_row1_col4\" class=\"data row1 col4\" >0.031054</td>\n",
       "      <td id=\"T_e1be7_row1_col5\" class=\"data row1 col5\" >0.001912</td>\n",
       "      <td id=\"T_e1be7_row1_col6\" class=\"data row1 col6\" >0.159616</td>\n",
       "      <td id=\"T_e1be7_row1_col7\" class=\"data row1 col7\" >0.010803</td>\n",
       "      <td id=\"T_e1be7_row1_col8\" class=\"data row1 col8\" >3.437632</td>\n",
       "      <td id=\"T_e1be7_row1_col9\" class=\"data row1 col9\" >0.004487</td>\n",
       "      <td id=\"T_e1be7_row1_col10\" class=\"data row1 col10\" >0.000000</td>\n",
       "      <td id=\"T_e1be7_row1_col11\" class=\"data row1 col11\" >0.000000</td>\n",
       "    </tr>\n",
       "    <tr>\n",
       "      <th id=\"T_e1be7_level0_row2\" class=\"row_heading level0 row2\" >popular__n_users</th>\n",
       "      <td id=\"T_e1be7_row2_col0\" class=\"data row2 col0\" >0.068934</td>\n",
       "      <td id=\"T_e1be7_row2_col1\" class=\"data row2 col1\" >0.004929</td>\n",
       "      <td id=\"T_e1be7_row2_col2\" class=\"data row2 col2\" >0.036913</td>\n",
       "      <td id=\"T_e1be7_row2_col3\" class=\"data row2 col3\" >0.002218</td>\n",
       "      <td id=\"T_e1be7_row2_col4\" class=\"data row2 col4\" >0.031054</td>\n",
       "      <td id=\"T_e1be7_row2_col5\" class=\"data row2 col5\" >0.001912</td>\n",
       "      <td id=\"T_e1be7_row2_col6\" class=\"data row2 col6\" >0.159616</td>\n",
       "      <td id=\"T_e1be7_row2_col7\" class=\"data row2 col7\" >0.010803</td>\n",
       "      <td id=\"T_e1be7_row2_col8\" class=\"data row2 col8\" >3.437632</td>\n",
       "      <td id=\"T_e1be7_row2_col9\" class=\"data row2 col9\" >0.004487</td>\n",
       "      <td id=\"T_e1be7_row2_col10\" class=\"data row2 col10\" >0.000000</td>\n",
       "      <td id=\"T_e1be7_row2_col11\" class=\"data row2 col11\" >0.000000</td>\n",
       "    </tr>\n",
       "  </tbody>\n",
       "</table>\n"
      ],
      "text/plain": [
       "<pandas.io.formats.style.Styler at 0x7f63035eaac0>"
      ]
     },
     "metadata": {},
     "output_type": "display_data"
    },
    {
     "name": "stdout",
     "output_type": "stream",
     "text": [
      "CPU times: user 47.8 s, sys: 989 ms, total: 48.8 s\n",
      "Wall time: 48.7 s\n"
     ]
    }
   ],
   "source": [
    "%%time\n",
    "result_data = calculate_metrics(models_popular, kion_data, metrics, cv_7d, k_recos=k_recos, style=True, verbose=0)\n",
    "display(result_data)"
   ]
  },
  {
   "cell_type": "code",
   "execution_count": 8,
   "id": "42d31774-9603-486f-94e3-da5f329cb62b",
   "metadata": {},
   "outputs": [
    {
     "data": {
      "application/vnd.jupyter.widget-view+json": {
       "model_id": "e6003c5933b34a36815392ad603b8dff",
       "version_major": 2,
       "version_minor": 0
      },
      "text/plain": [
       "  0%|          | 0/3 [00:00<?, ?it/s]"
      ]
     },
     "metadata": {},
     "output_type": "display_data"
    },
    {
     "data": {
      "text/html": [
       "<style type=\"text/css\">\n",
       "#T_1f1df_row0_col0, #T_1f1df_row0_col2, #T_1f1df_row0_col4, #T_1f1df_row0_col6, #T_1f1df_row1_col8, #T_1f1df_row1_col10, #T_1f1df_row2_col8, #T_1f1df_row2_col10 {\n",
       "  background-color: #da3b46;\n",
       "  color: #f1f1f1;\n",
       "}\n",
       "#T_1f1df_row0_col8, #T_1f1df_row0_col10, #T_1f1df_row1_col0, #T_1f1df_row1_col2, #T_1f1df_row1_col4, #T_1f1df_row1_col6, #T_1f1df_row2_col0, #T_1f1df_row2_col2, #T_1f1df_row2_col4, #T_1f1df_row2_col6 {\n",
       "  background-color: #398649;\n",
       "  color: #f1f1f1;\n",
       "}\n",
       "</style>\n",
       "<table id=\"T_1f1df\">\n",
       "  <thead>\n",
       "    <tr>\n",
       "      <th class=\"index_name level0\" >Metric</th>\n",
       "      <th id=\"T_1f1df_level0_col0\" class=\"col_heading level0 col0\" colspan=\"2\">MAP</th>\n",
       "      <th id=\"T_1f1df_level0_col2\" class=\"col_heading level0 col2\" colspan=\"2\">NDCG</th>\n",
       "      <th id=\"T_1f1df_level0_col4\" class=\"col_heading level0 col4\" colspan=\"2\">precision</th>\n",
       "      <th id=\"T_1f1df_level0_col6\" class=\"col_heading level0 col6\" colspan=\"2\">recall</th>\n",
       "      <th id=\"T_1f1df_level0_col8\" class=\"col_heading level0 col8\" colspan=\"2\">novelty</th>\n",
       "      <th id=\"T_1f1df_level0_col10\" class=\"col_heading level0 col10\" colspan=\"2\">serendipity</th>\n",
       "    </tr>\n",
       "    <tr>\n",
       "      <th class=\"index_name level1\" >At</th>\n",
       "      <th id=\"T_1f1df_level1_col0\" class=\"col_heading level1 col0\" colspan=\"2\">10</th>\n",
       "      <th id=\"T_1f1df_level1_col2\" class=\"col_heading level1 col2\" colspan=\"2\">10</th>\n",
       "      <th id=\"T_1f1df_level1_col4\" class=\"col_heading level1 col4\" colspan=\"2\">10</th>\n",
       "      <th id=\"T_1f1df_level1_col6\" class=\"col_heading level1 col6\" colspan=\"2\">10</th>\n",
       "      <th id=\"T_1f1df_level1_col8\" class=\"col_heading level1 col8\" colspan=\"2\">10</th>\n",
       "      <th id=\"T_1f1df_level1_col10\" class=\"col_heading level1 col10\" colspan=\"2\">10</th>\n",
       "    </tr>\n",
       "    <tr>\n",
       "      <th class=\"index_name level2\" >Stat</th>\n",
       "      <th id=\"T_1f1df_level2_col0\" class=\"col_heading level2 col0\" >mean</th>\n",
       "      <th id=\"T_1f1df_level2_col1\" class=\"col_heading level2 col1\" >std</th>\n",
       "      <th id=\"T_1f1df_level2_col2\" class=\"col_heading level2 col2\" >mean</th>\n",
       "      <th id=\"T_1f1df_level2_col3\" class=\"col_heading level2 col3\" >std</th>\n",
       "      <th id=\"T_1f1df_level2_col4\" class=\"col_heading level2 col4\" >mean</th>\n",
       "      <th id=\"T_1f1df_level2_col5\" class=\"col_heading level2 col5\" >std</th>\n",
       "      <th id=\"T_1f1df_level2_col6\" class=\"col_heading level2 col6\" >mean</th>\n",
       "      <th id=\"T_1f1df_level2_col7\" class=\"col_heading level2 col7\" >std</th>\n",
       "      <th id=\"T_1f1df_level2_col8\" class=\"col_heading level2 col8\" >mean</th>\n",
       "      <th id=\"T_1f1df_level2_col9\" class=\"col_heading level2 col9\" >std</th>\n",
       "      <th id=\"T_1f1df_level2_col10\" class=\"col_heading level2 col10\" >mean</th>\n",
       "      <th id=\"T_1f1df_level2_col11\" class=\"col_heading level2 col11\" >std</th>\n",
       "    </tr>\n",
       "    <tr>\n",
       "      <th class=\"index_name level0\" >model</th>\n",
       "      <th class=\"blank col0\" >&nbsp;</th>\n",
       "      <th class=\"blank col1\" >&nbsp;</th>\n",
       "      <th class=\"blank col2\" >&nbsp;</th>\n",
       "      <th class=\"blank col3\" >&nbsp;</th>\n",
       "      <th class=\"blank col4\" >&nbsp;</th>\n",
       "      <th class=\"blank col5\" >&nbsp;</th>\n",
       "      <th class=\"blank col6\" >&nbsp;</th>\n",
       "      <th class=\"blank col7\" >&nbsp;</th>\n",
       "      <th class=\"blank col8\" >&nbsp;</th>\n",
       "      <th class=\"blank col9\" >&nbsp;</th>\n",
       "      <th class=\"blank col10\" >&nbsp;</th>\n",
       "      <th class=\"blank col11\" >&nbsp;</th>\n",
       "    </tr>\n",
       "  </thead>\n",
       "  <tbody>\n",
       "    <tr>\n",
       "      <th id=\"T_1f1df_level0_row0\" class=\"row_heading level0 row0\" >popular__mean_weight</th>\n",
       "      <td id=\"T_1f1df_row0_col0\" class=\"data row0 col0\" >0.000003</td>\n",
       "      <td id=\"T_1f1df_row0_col1\" class=\"data row0 col1\" >0.000003</td>\n",
       "      <td id=\"T_1f1df_row0_col2\" class=\"data row0 col2\" >0.000002</td>\n",
       "      <td id=\"T_1f1df_row0_col3\" class=\"data row0 col3\" >0.000002</td>\n",
       "      <td id=\"T_1f1df_row0_col4\" class=\"data row0 col4\" >0.000002</td>\n",
       "      <td id=\"T_1f1df_row0_col5\" class=\"data row0 col5\" >0.000002</td>\n",
       "      <td id=\"T_1f1df_row0_col6\" class=\"data row0 col6\" >0.000011</td>\n",
       "      <td id=\"T_1f1df_row0_col7\" class=\"data row0 col7\" >0.000012</td>\n",
       "      <td id=\"T_1f1df_row0_col8\" class=\"data row0 col8\" >18.433416</td>\n",
       "      <td id=\"T_1f1df_row0_col9\" class=\"data row0 col9\" >0.191683</td>\n",
       "      <td id=\"T_1f1df_row0_col10\" class=\"data row0 col10\" >0.000000</td>\n",
       "      <td id=\"T_1f1df_row0_col11\" class=\"data row0 col11\" >0.000000</td>\n",
       "    </tr>\n",
       "    <tr>\n",
       "      <th id=\"T_1f1df_level0_row1\" class=\"row_heading level0 row1\" >popular__n_interactions</th>\n",
       "      <td id=\"T_1f1df_row1_col0\" class=\"data row1 col0\" >0.080294</td>\n",
       "      <td id=\"T_1f1df_row1_col1\" class=\"data row1 col1\" >0.010014</td>\n",
       "      <td id=\"T_1f1df_row1_col2\" class=\"data row1 col2\" >0.049524</td>\n",
       "      <td id=\"T_1f1df_row1_col3\" class=\"data row1 col3\" >0.005140</td>\n",
       "      <td id=\"T_1f1df_row1_col4\" class=\"data row1 col4\" >0.042783</td>\n",
       "      <td id=\"T_1f1df_row1_col5\" class=\"data row1 col5\" >0.005425</td>\n",
       "      <td id=\"T_1f1df_row1_col6\" class=\"data row1 col6\" >0.191317</td>\n",
       "      <td id=\"T_1f1df_row1_col7\" class=\"data row1 col7\" >0.031802</td>\n",
       "      <td id=\"T_1f1df_row1_col8\" class=\"data row1 col8\" >3.470736</td>\n",
       "      <td id=\"T_1f1df_row1_col9\" class=\"data row1 col9\" >0.044057</td>\n",
       "      <td id=\"T_1f1df_row1_col10\" class=\"data row1 col10\" >0.000000</td>\n",
       "      <td id=\"T_1f1df_row1_col11\" class=\"data row1 col11\" >0.000000</td>\n",
       "    </tr>\n",
       "    <tr>\n",
       "      <th id=\"T_1f1df_level0_row2\" class=\"row_heading level0 row2\" >popular__n_users</th>\n",
       "      <td id=\"T_1f1df_row2_col0\" class=\"data row2 col0\" >0.080294</td>\n",
       "      <td id=\"T_1f1df_row2_col1\" class=\"data row2 col1\" >0.010014</td>\n",
       "      <td id=\"T_1f1df_row2_col2\" class=\"data row2 col2\" >0.049524</td>\n",
       "      <td id=\"T_1f1df_row2_col3\" class=\"data row2 col3\" >0.005140</td>\n",
       "      <td id=\"T_1f1df_row2_col4\" class=\"data row2 col4\" >0.042783</td>\n",
       "      <td id=\"T_1f1df_row2_col5\" class=\"data row2 col5\" >0.005425</td>\n",
       "      <td id=\"T_1f1df_row2_col6\" class=\"data row2 col6\" >0.191317</td>\n",
       "      <td id=\"T_1f1df_row2_col7\" class=\"data row2 col7\" >0.031802</td>\n",
       "      <td id=\"T_1f1df_row2_col8\" class=\"data row2 col8\" >3.470736</td>\n",
       "      <td id=\"T_1f1df_row2_col9\" class=\"data row2 col9\" >0.044057</td>\n",
       "      <td id=\"T_1f1df_row2_col10\" class=\"data row2 col10\" >0.000000</td>\n",
       "      <td id=\"T_1f1df_row2_col11\" class=\"data row2 col11\" >0.000000</td>\n",
       "    </tr>\n",
       "  </tbody>\n",
       "</table>\n"
      ],
      "text/plain": [
       "<pandas.io.formats.style.Styler at 0x7f6304fd1a90>"
      ]
     },
     "metadata": {},
     "output_type": "display_data"
    },
    {
     "name": "stdout",
     "output_type": "stream",
     "text": [
      "CPU times: user 53 s, sys: 911 ms, total: 53.9 s\n",
      "Wall time: 53.8 s\n"
     ]
    }
   ],
   "source": [
    "%%time\n",
    "result_data = calculate_metrics(models_popular, kion_data, metrics, cv_14d, k_recos=k_recos, style=True, verbose=0)\n",
    "display(result_data)"
   ]
  },
  {
   "cell_type": "markdown",
   "id": "832a2248-945b-402b-9203-dd15b03bc140",
   "metadata": {},
   "source": [
    "Популярное на взаимодействиях работает одинаково с популярным на пользователях, воспользуемся первым. Но сначала проверим, все ли с ним хорошо."
   ]
  },
  {
   "cell_type": "code",
   "execution_count": 9,
   "id": "1b1f01f8-6f4f-4c4e-a17d-0770d8b37f62",
   "metadata": {},
   "outputs": [],
   "source": [
    "item_data = [\"title\", \"genres\"]\n",
    "k_recos = 10\n",
    "users_list = [\n",
    "    79446,\n",
    "    1074610,\n",
    "]\n",
    "dataset_for_train = Dataset.construct(interactions.df)"
   ]
  },
  {
   "cell_type": "code",
   "execution_count": 10,
   "id": "67731dbf-b540-40ad-a52e-3f238816b67a",
   "metadata": {},
   "outputs": [
    {
     "data": {
      "text/plain": [
       "<rectools.models.popular.PopularModel at 0x7f63035eaf10>"
      ]
     },
     "execution_count": 10,
     "metadata": {},
     "output_type": "execute_result"
    }
   ],
   "source": [
    "model = deepcopy(models_popular[\"popular__n_interactions\"])\n",
    "model.fit(dataset_for_train)"
   ]
  },
  {
   "cell_type": "code",
   "execution_count": 11,
   "id": "ba50bae8-1fd1-408c-976e-7e8729770584",
   "metadata": {},
   "outputs": [
    {
     "name": "stdout",
     "output_type": "stream",
     "text": [
      "Visual report\n",
      "----------------------------------------------------------\n",
      "User: 79446\n",
      "Already watched films amount: 33\n",
      "Display last 10 watched:\n",
      "\n"
     ]
    },
    {
     "data": {
      "text/html": [
       "<div>\n",
       "<style scoped>\n",
       "    .dataframe tbody tr th:only-of-type {\n",
       "        vertical-align: middle;\n",
       "    }\n",
       "\n",
       "    .dataframe tbody tr th {\n",
       "        vertical-align: top;\n",
       "    }\n",
       "\n",
       "    .dataframe thead th {\n",
       "        text-align: right;\n",
       "    }\n",
       "</style>\n",
       "<table border=\"1\" class=\"dataframe\">\n",
       "  <thead>\n",
       "    <tr style=\"text-align: right;\">\n",
       "      <th></th>\n",
       "      <th>item_id</th>\n",
       "      <th>datetime</th>\n",
       "      <th>weight</th>\n",
       "      <th>watched_pct</th>\n",
       "      <th>item_id_x</th>\n",
       "      <th>title</th>\n",
       "      <th>genres</th>\n",
       "      <th>item_id_y</th>\n",
       "    </tr>\n",
       "  </thead>\n",
       "  <tbody>\n",
       "    <tr>\n",
       "      <th>15</th>\n",
       "      <td>512</td>\n",
       "      <td>2021-08-15</td>\n",
       "      <td>3303.0</td>\n",
       "      <td>58.0</td>\n",
       "      <td>512</td>\n",
       "      <td>Рядовой Чээрин</td>\n",
       "      <td>военные</td>\n",
       "      <td>10230</td>\n",
       "    </tr>\n",
       "    <tr>\n",
       "      <th>32</th>\n",
       "      <td>1896</td>\n",
       "      <td>2021-08-01</td>\n",
       "      <td>3720.0</td>\n",
       "      <td>57.0</td>\n",
       "      <td>1896</td>\n",
       "      <td>Явление</td>\n",
       "      <td>драмы, военные</td>\n",
       "      <td>674</td>\n",
       "    </tr>\n",
       "    <tr>\n",
       "      <th>19</th>\n",
       "      <td>7597</td>\n",
       "      <td>2021-08-01</td>\n",
       "      <td>5752.0</td>\n",
       "      <td>100.0</td>\n",
       "      <td>7597</td>\n",
       "      <td>Препод: История Галатеи</td>\n",
       "      <td>драмы, триллеры, криминал</td>\n",
       "      <td>1717</td>\n",
       "    </tr>\n",
       "    <tr>\n",
       "      <th>9</th>\n",
       "      <td>16415</td>\n",
       "      <td>2021-07-28</td>\n",
       "      <td>6847.0</td>\n",
       "      <td>100.0</td>\n",
       "      <td>16415</td>\n",
       "      <td>Весна</td>\n",
       "      <td>фантастика, ужасы, мелодрамы</td>\n",
       "      <td>624</td>\n",
       "    </tr>\n",
       "    <tr>\n",
       "      <th>7</th>\n",
       "      <td>4880</td>\n",
       "      <td>2021-07-25</td>\n",
       "      <td>2634.0</td>\n",
       "      <td>9.0</td>\n",
       "      <td>4880</td>\n",
       "      <td>Афера</td>\n",
       "      <td>комедии</td>\n",
       "      <td>55043</td>\n",
       "    </tr>\n",
       "    <tr>\n",
       "      <th>14</th>\n",
       "      <td>12356</td>\n",
       "      <td>2021-07-18</td>\n",
       "      <td>4071.0</td>\n",
       "      <td>77.0</td>\n",
       "      <td>12356</td>\n",
       "      <td>13 грехов</td>\n",
       "      <td>ужасы, триллеры</td>\n",
       "      <td>6874</td>\n",
       "    </tr>\n",
       "    <tr>\n",
       "      <th>30</th>\n",
       "      <td>9194</td>\n",
       "      <td>2021-07-17</td>\n",
       "      <td>6760.0</td>\n",
       "      <td>95.0</td>\n",
       "      <td>9194</td>\n",
       "      <td>Роберт — король Шотландии</td>\n",
       "      <td>боевики</td>\n",
       "      <td>8030</td>\n",
       "    </tr>\n",
       "    <tr>\n",
       "      <th>18</th>\n",
       "      <td>9728</td>\n",
       "      <td>2021-07-17</td>\n",
       "      <td>52.0</td>\n",
       "      <td>1.0</td>\n",
       "      <td>9728</td>\n",
       "      <td>Гнев человеческий</td>\n",
       "      <td>боевики, триллеры</td>\n",
       "      <td>132865</td>\n",
       "    </tr>\n",
       "    <tr>\n",
       "      <th>5</th>\n",
       "      <td>10240</td>\n",
       "      <td>2021-07-16</td>\n",
       "      <td>6126.0</td>\n",
       "      <td>100.0</td>\n",
       "      <td>10240</td>\n",
       "      <td>Клаустрофобы</td>\n",
       "      <td>триллеры</td>\n",
       "      <td>4336</td>\n",
       "    </tr>\n",
       "    <tr>\n",
       "      <th>25</th>\n",
       "      <td>10464</td>\n",
       "      <td>2021-07-13</td>\n",
       "      <td>8.0</td>\n",
       "      <td>0.0</td>\n",
       "      <td>10464</td>\n",
       "      <td>Вирус страха</td>\n",
       "      <td>драмы, триллеры</td>\n",
       "      <td>10375</td>\n",
       "    </tr>\n",
       "  </tbody>\n",
       "</table>\n",
       "</div>"
      ],
      "text/plain": [
       "    item_id   datetime  weight  watched_pct  item_id_x  \\\n",
       "15      512 2021-08-15  3303.0         58.0        512   \n",
       "32     1896 2021-08-01  3720.0         57.0       1896   \n",
       "19     7597 2021-08-01  5752.0        100.0       7597   \n",
       "9     16415 2021-07-28  6847.0        100.0      16415   \n",
       "7      4880 2021-07-25  2634.0          9.0       4880   \n",
       "14    12356 2021-07-18  4071.0         77.0      12356   \n",
       "30     9194 2021-07-17  6760.0         95.0       9194   \n",
       "18     9728 2021-07-17    52.0          1.0       9728   \n",
       "5     10240 2021-07-16  6126.0        100.0      10240   \n",
       "25    10464 2021-07-13     8.0          0.0      10464   \n",
       "\n",
       "                        title                        genres  item_id_y  \n",
       "15             Рядовой Чээрин                       военные      10230  \n",
       "32                    Явление                драмы, военные        674  \n",
       "19    Препод: История Галатеи     драмы, триллеры, криминал       1717  \n",
       "9                       Весна  фантастика, ужасы, мелодрамы        624  \n",
       "7                       Афера                       комедии      55043  \n",
       "14                  13 грехов               ужасы, триллеры       6874  \n",
       "30  Роберт — король Шотландии                       боевики       8030  \n",
       "18          Гнев человеческий             боевики, триллеры     132865  \n",
       "5                Клаустрофобы                      триллеры       4336  \n",
       "25               Вирус страха               драмы, триллеры      10375  "
      ]
     },
     "metadata": {},
     "output_type": "display_data"
    },
    {
     "name": "stdout",
     "output_type": "stream",
     "text": [
      "\n",
      "Recommended films amount: 20\n",
      "(Amount of all films: 15706)\n",
      "Display first 10 recommendations:\n"
     ]
    },
    {
     "data": {
      "text/html": [
       "<div>\n",
       "<style scoped>\n",
       "    .dataframe tbody tr th:only-of-type {\n",
       "        vertical-align: middle;\n",
       "    }\n",
       "\n",
       "    .dataframe tbody tr th {\n",
       "        vertical-align: top;\n",
       "    }\n",
       "\n",
       "    .dataframe thead th {\n",
       "        text-align: right;\n",
       "    }\n",
       "</style>\n",
       "<table border=\"1\" class=\"dataframe\">\n",
       "  <thead>\n",
       "    <tr style=\"text-align: right;\">\n",
       "      <th></th>\n",
       "      <th>item_id</th>\n",
       "      <th>score</th>\n",
       "      <th>rank</th>\n",
       "      <th>item_id_x</th>\n",
       "      <th>title</th>\n",
       "      <th>genres</th>\n",
       "      <th>item_id_y</th>\n",
       "    </tr>\n",
       "  </thead>\n",
       "  <tbody>\n",
       "    <tr>\n",
       "      <th>0</th>\n",
       "      <td>10440</td>\n",
       "      <td>202457.0</td>\n",
       "      <td>1</td>\n",
       "      <td>10440</td>\n",
       "      <td>Хрустальный</td>\n",
       "      <td>триллеры, детективы</td>\n",
       "      <td>202457</td>\n",
       "    </tr>\n",
       "    <tr>\n",
       "      <th>1</th>\n",
       "      <td>15297</td>\n",
       "      <td>193123.0</td>\n",
       "      <td>2</td>\n",
       "      <td>15297</td>\n",
       "      <td>Клиника счастья</td>\n",
       "      <td>драмы, мелодрамы</td>\n",
       "      <td>193123</td>\n",
       "    </tr>\n",
       "    <tr>\n",
       "      <th>2</th>\n",
       "      <td>4151</td>\n",
       "      <td>91167.0</td>\n",
       "      <td>3</td>\n",
       "      <td>4151</td>\n",
       "      <td>Секреты семейной жизни</td>\n",
       "      <td>комедии</td>\n",
       "      <td>91167</td>\n",
       "    </tr>\n",
       "    <tr>\n",
       "      <th>3</th>\n",
       "      <td>3734</td>\n",
       "      <td>74803.0</td>\n",
       "      <td>4</td>\n",
       "      <td>3734</td>\n",
       "      <td>Прабабушка легкого поведения</td>\n",
       "      <td>комедии</td>\n",
       "      <td>74803</td>\n",
       "    </tr>\n",
       "    <tr>\n",
       "      <th>4</th>\n",
       "      <td>2657</td>\n",
       "      <td>68581.0</td>\n",
       "      <td>5</td>\n",
       "      <td>2657</td>\n",
       "      <td>Подслушано</td>\n",
       "      <td>драмы, триллеры</td>\n",
       "      <td>68581</td>\n",
       "    </tr>\n",
       "    <tr>\n",
       "      <th>5</th>\n",
       "      <td>142</td>\n",
       "      <td>45367.0</td>\n",
       "      <td>6</td>\n",
       "      <td>142</td>\n",
       "      <td>Маша</td>\n",
       "      <td>драмы, триллеры</td>\n",
       "      <td>45367</td>\n",
       "    </tr>\n",
       "    <tr>\n",
       "      <th>6</th>\n",
       "      <td>6809</td>\n",
       "      <td>40372.0</td>\n",
       "      <td>7</td>\n",
       "      <td>6809</td>\n",
       "      <td>Дуров</td>\n",
       "      <td>документальное</td>\n",
       "      <td>40372</td>\n",
       "    </tr>\n",
       "    <tr>\n",
       "      <th>7</th>\n",
       "      <td>12192</td>\n",
       "      <td>38242.0</td>\n",
       "      <td>8</td>\n",
       "      <td>12192</td>\n",
       "      <td>Фемида видит</td>\n",
       "      <td>драмы, детективы, комедии</td>\n",
       "      <td>38242</td>\n",
       "    </tr>\n",
       "    <tr>\n",
       "      <th>8</th>\n",
       "      <td>8636</td>\n",
       "      <td>35631.0</td>\n",
       "      <td>9</td>\n",
       "      <td>8636</td>\n",
       "      <td>Белый снег</td>\n",
       "      <td>драмы, спорт</td>\n",
       "      <td>35631</td>\n",
       "    </tr>\n",
       "    <tr>\n",
       "      <th>9</th>\n",
       "      <td>4740</td>\n",
       "      <td>34325.0</td>\n",
       "      <td>10</td>\n",
       "      <td>4740</td>\n",
       "      <td>Сахаров. Две жизни</td>\n",
       "      <td>документальное</td>\n",
       "      <td>34325</td>\n",
       "    </tr>\n",
       "  </tbody>\n",
       "</table>\n",
       "</div>"
      ],
      "text/plain": [
       "   item_id     score  rank  item_id_x                         title  \\\n",
       "0    10440  202457.0     1      10440                   Хрустальный   \n",
       "1    15297  193123.0     2      15297               Клиника счастья   \n",
       "2     4151   91167.0     3       4151        Секреты семейной жизни   \n",
       "3     3734   74803.0     4       3734  Прабабушка легкого поведения   \n",
       "4     2657   68581.0     5       2657                    Подслушано   \n",
       "5      142   45367.0     6        142                          Маша   \n",
       "6     6809   40372.0     7       6809                         Дуров   \n",
       "7    12192   38242.0     8      12192                  Фемида видит   \n",
       "8     8636   35631.0     9       8636                    Белый снег   \n",
       "9     4740   34325.0    10       4740            Сахаров. Две жизни   \n",
       "\n",
       "                      genres  item_id_y  \n",
       "0        триллеры, детективы     202457  \n",
       "1           драмы, мелодрамы     193123  \n",
       "2                    комедии      91167  \n",
       "3                    комедии      74803  \n",
       "4            драмы, триллеры      68581  \n",
       "5            драмы, триллеры      45367  \n",
       "6             документальное      40372  \n",
       "7  драмы, детективы, комедии      38242  \n",
       "8               драмы, спорт      35631  \n",
       "9             документальное      34325  "
      ]
     },
     "metadata": {},
     "output_type": "display_data"
    },
    {
     "name": "stdout",
     "output_type": "stream",
     "text": [
      "----------------------------------------------------------\n",
      "User: 1074610\n",
      "Already watched films amount: 1\n",
      "Display last 10 watched:\n",
      "\n"
     ]
    },
    {
     "data": {
      "text/html": [
       "<div>\n",
       "<style scoped>\n",
       "    .dataframe tbody tr th:only-of-type {\n",
       "        vertical-align: middle;\n",
       "    }\n",
       "\n",
       "    .dataframe tbody tr th {\n",
       "        vertical-align: top;\n",
       "    }\n",
       "\n",
       "    .dataframe thead th {\n",
       "        text-align: right;\n",
       "    }\n",
       "</style>\n",
       "<table border=\"1\" class=\"dataframe\">\n",
       "  <thead>\n",
       "    <tr style=\"text-align: right;\">\n",
       "      <th></th>\n",
       "      <th>item_id</th>\n",
       "      <th>datetime</th>\n",
       "      <th>weight</th>\n",
       "      <th>watched_pct</th>\n",
       "      <th>item_id_x</th>\n",
       "      <th>title</th>\n",
       "      <th>genres</th>\n",
       "      <th>item_id_y</th>\n",
       "    </tr>\n",
       "  </thead>\n",
       "  <tbody>\n",
       "    <tr>\n",
       "      <th>0</th>\n",
       "      <td>15297</td>\n",
       "      <td>2021-07-28</td>\n",
       "      <td>1402.0</td>\n",
       "      <td>13.0</td>\n",
       "      <td>15297</td>\n",
       "      <td>Клиника счастья</td>\n",
       "      <td>драмы, мелодрамы</td>\n",
       "      <td>193123</td>\n",
       "    </tr>\n",
       "  </tbody>\n",
       "</table>\n",
       "</div>"
      ],
      "text/plain": [
       "   item_id   datetime  weight  watched_pct  item_id_x            title  \\\n",
       "0    15297 2021-07-28  1402.0         13.0      15297  Клиника счастья   \n",
       "\n",
       "             genres  item_id_y  \n",
       "0  драмы, мелодрамы     193123  "
      ]
     },
     "metadata": {},
     "output_type": "display_data"
    },
    {
     "name": "stdout",
     "output_type": "stream",
     "text": [
      "\n",
      "Recommended films amount: 20\n",
      "(Amount of all films: 15706)\n",
      "Display first 10 recommendations:\n"
     ]
    },
    {
     "data": {
      "text/html": [
       "<div>\n",
       "<style scoped>\n",
       "    .dataframe tbody tr th:only-of-type {\n",
       "        vertical-align: middle;\n",
       "    }\n",
       "\n",
       "    .dataframe tbody tr th {\n",
       "        vertical-align: top;\n",
       "    }\n",
       "\n",
       "    .dataframe thead th {\n",
       "        text-align: right;\n",
       "    }\n",
       "</style>\n",
       "<table border=\"1\" class=\"dataframe\">\n",
       "  <thead>\n",
       "    <tr style=\"text-align: right;\">\n",
       "      <th></th>\n",
       "      <th>item_id</th>\n",
       "      <th>score</th>\n",
       "      <th>rank</th>\n",
       "      <th>item_id_x</th>\n",
       "      <th>title</th>\n",
       "      <th>genres</th>\n",
       "      <th>item_id_y</th>\n",
       "    </tr>\n",
       "  </thead>\n",
       "  <tbody>\n",
       "    <tr>\n",
       "      <th>0</th>\n",
       "      <td>10440</td>\n",
       "      <td>202457.0</td>\n",
       "      <td>1</td>\n",
       "      <td>10440</td>\n",
       "      <td>Хрустальный</td>\n",
       "      <td>триллеры, детективы</td>\n",
       "      <td>202457</td>\n",
       "    </tr>\n",
       "    <tr>\n",
       "      <th>1</th>\n",
       "      <td>9728</td>\n",
       "      <td>132865.0</td>\n",
       "      <td>2</td>\n",
       "      <td>9728</td>\n",
       "      <td>Гнев человеческий</td>\n",
       "      <td>боевики, триллеры</td>\n",
       "      <td>132865</td>\n",
       "    </tr>\n",
       "    <tr>\n",
       "      <th>2</th>\n",
       "      <td>13865</td>\n",
       "      <td>122119.0</td>\n",
       "      <td>3</td>\n",
       "      <td>13865</td>\n",
       "      <td>Девятаев</td>\n",
       "      <td>драмы, военные, приключения</td>\n",
       "      <td>122119</td>\n",
       "    </tr>\n",
       "    <tr>\n",
       "      <th>3</th>\n",
       "      <td>4151</td>\n",
       "      <td>91167.0</td>\n",
       "      <td>4</td>\n",
       "      <td>4151</td>\n",
       "      <td>Секреты семейной жизни</td>\n",
       "      <td>комедии</td>\n",
       "      <td>91167</td>\n",
       "    </tr>\n",
       "    <tr>\n",
       "      <th>4</th>\n",
       "      <td>3734</td>\n",
       "      <td>74803.0</td>\n",
       "      <td>5</td>\n",
       "      <td>3734</td>\n",
       "      <td>Прабабушка легкого поведения</td>\n",
       "      <td>комедии</td>\n",
       "      <td>74803</td>\n",
       "    </tr>\n",
       "    <tr>\n",
       "      <th>5</th>\n",
       "      <td>2657</td>\n",
       "      <td>68581.0</td>\n",
       "      <td>6</td>\n",
       "      <td>2657</td>\n",
       "      <td>Подслушано</td>\n",
       "      <td>драмы, триллеры</td>\n",
       "      <td>68581</td>\n",
       "    </tr>\n",
       "    <tr>\n",
       "      <th>6</th>\n",
       "      <td>4880</td>\n",
       "      <td>55043.0</td>\n",
       "      <td>7</td>\n",
       "      <td>4880</td>\n",
       "      <td>Афера</td>\n",
       "      <td>комедии</td>\n",
       "      <td>55043</td>\n",
       "    </tr>\n",
       "    <tr>\n",
       "      <th>7</th>\n",
       "      <td>142</td>\n",
       "      <td>45367.0</td>\n",
       "      <td>8</td>\n",
       "      <td>142</td>\n",
       "      <td>Маша</td>\n",
       "      <td>драмы, триллеры</td>\n",
       "      <td>45367</td>\n",
       "    </tr>\n",
       "    <tr>\n",
       "      <th>8</th>\n",
       "      <td>6809</td>\n",
       "      <td>40372.0</td>\n",
       "      <td>9</td>\n",
       "      <td>6809</td>\n",
       "      <td>Дуров</td>\n",
       "      <td>документальное</td>\n",
       "      <td>40372</td>\n",
       "    </tr>\n",
       "    <tr>\n",
       "      <th>9</th>\n",
       "      <td>12192</td>\n",
       "      <td>38242.0</td>\n",
       "      <td>10</td>\n",
       "      <td>12192</td>\n",
       "      <td>Фемида видит</td>\n",
       "      <td>драмы, детективы, комедии</td>\n",
       "      <td>38242</td>\n",
       "    </tr>\n",
       "  </tbody>\n",
       "</table>\n",
       "</div>"
      ],
      "text/plain": [
       "   item_id     score  rank  item_id_x                         title  \\\n",
       "0    10440  202457.0     1      10440                   Хрустальный   \n",
       "1     9728  132865.0     2       9728             Гнев человеческий   \n",
       "2    13865  122119.0     3      13865                      Девятаев   \n",
       "3     4151   91167.0     4       4151        Секреты семейной жизни   \n",
       "4     3734   74803.0     5       3734  Прабабушка легкого поведения   \n",
       "5     2657   68581.0     6       2657                    Подслушано   \n",
       "6     4880   55043.0     7       4880                         Афера   \n",
       "7      142   45367.0     8        142                          Маша   \n",
       "8     6809   40372.0     9       6809                         Дуров   \n",
       "9    12192   38242.0    10      12192                  Фемида видит   \n",
       "\n",
       "                        genres  item_id_y  \n",
       "0          триллеры, детективы     202457  \n",
       "1            боевики, триллеры     132865  \n",
       "2  драмы, военные, приключения     122119  \n",
       "3                      комедии      91167  \n",
       "4                      комедии      74803  \n",
       "5              драмы, триллеры      68581  \n",
       "6                      комедии      55043  \n",
       "7              драмы, триллеры      45367  \n",
       "8               документальное      40372  \n",
       "9    драмы, детективы, комедии      38242  "
      ]
     },
     "metadata": {},
     "output_type": "display_data"
    }
   ],
   "source": [
    "visualize(model=model, dataset=kion_data, user_list=users_list, item_data=item_data, k_recos=20, display=display)"
   ]
  },
  {
   "cell_type": "markdown",
   "id": "6ed2c5ee-3ff2-498e-a407-87a14976540a",
   "metadata": {},
   "source": [
    "# UserKnn\n",
    "\n",
    "Будем использовать ряд моделей UserKnn с популярной для дополнения недостающих значений.\n",
    "\n",
    "Пробовал разные метрики расстояний (косинусное, tf-idf и bm25) с разным количеством users для построения kNN (30 и 70)."
   ]
  },
  {
   "cell_type": "code",
   "execution_count": 12,
   "id": "0e8d6adc-7ec2-4c46-8c0d-a320477a9571",
   "metadata": {},
   "outputs": [],
   "source": [
    "models_userknn = {\n",
    "    \"userknn__cos_70\": UserKnn(\n",
    "        model=CosineRecommender(), popular_model=deepcopy(models_popular[\"popular__n_interactions\"]), N_users=70\n",
    "    ),\n",
    "    \"userknn__cos_30\": UserKnn(\n",
    "        model=CosineRecommender(), popular_model=deepcopy(models_popular[\"popular__n_interactions\"]), N_users=30\n",
    "    ),\n",
    "    \"userknn__bm25_70\": UserKnn(\n",
    "        model=BM25Recommender(), popular_model=deepcopy(models_popular[\"popular__n_interactions\"]), N_users=70\n",
    "    ),\n",
    "    \"userknn__bm25_30\": UserKnn(\n",
    "        model=BM25Recommender(), popular_model=deepcopy(models_popular[\"popular__n_interactions\"]), N_users=30\n",
    "    ),\n",
    "    \"userknn__tfidf_70\": UserKnn(\n",
    "        model=TFIDFRecommender(), popular_model=deepcopy(models_popular[\"popular__n_interactions\"]), N_users=70\n",
    "    ),\n",
    "    \"userknn__tfidf_30\": UserKnn(\n",
    "        model=TFIDFRecommender(), popular_model=deepcopy(models_popular[\"popular__n_interactions\"]), N_users=30\n",
    "    ),\n",
    "}"
   ]
  },
  {
   "cell_type": "code",
   "execution_count": 13,
   "id": "05c0727e-3534-4b52-9458-3a8c8276d933",
   "metadata": {},
   "outputs": [
    {
     "data": {
      "application/vnd.jupyter.widget-view+json": {
       "model_id": "123a9a5805894a3f8549323ca8697275",
       "version_major": 2,
       "version_minor": 0
      },
      "text/plain": [
       "  0%|          | 0/3 [00:00<?, ?it/s]"
      ]
     },
     "metadata": {},
     "output_type": "display_data"
    },
    {
     "data": {
      "application/vnd.jupyter.widget-view+json": {
       "model_id": "a232de1d3c434e67a11e7e0f9017696b",
       "version_major": 2,
       "version_minor": 0
      },
      "text/plain": [
       "  0%|          | 0/797423 [00:00<?, ?it/s]"
      ]
     },
     "metadata": {},
     "output_type": "display_data"
    },
    {
     "data": {
      "application/vnd.jupyter.widget-view+json": {
       "model_id": "034ae87bb3c74ee6ae20ae0a584a8ca4",
       "version_major": 2,
       "version_minor": 0
      },
      "text/plain": [
       "  0%|          | 0/797423 [00:00<?, ?it/s]"
      ]
     },
     "metadata": {},
     "output_type": "display_data"
    },
    {
     "data": {
      "application/vnd.jupyter.widget-view+json": {
       "model_id": "04609a1fa1ef42618ee308df26da1d06",
       "version_major": 2,
       "version_minor": 0
      },
      "text/plain": [
       "  0%|          | 0/797423 [00:00<?, ?it/s]"
      ]
     },
     "metadata": {},
     "output_type": "display_data"
    },
    {
     "data": {
      "application/vnd.jupyter.widget-view+json": {
       "model_id": "89465a92cf5f4559999fedba9b6a10b0",
       "version_major": 2,
       "version_minor": 0
      },
      "text/plain": [
       "  0%|          | 0/797423 [00:00<?, ?it/s]"
      ]
     },
     "metadata": {},
     "output_type": "display_data"
    },
    {
     "data": {
      "application/vnd.jupyter.widget-view+json": {
       "model_id": "5aef3232aaf84d7c9914bb609d7f16e3",
       "version_major": 2,
       "version_minor": 0
      },
      "text/plain": [
       "  0%|          | 0/797423 [00:00<?, ?it/s]"
      ]
     },
     "metadata": {},
     "output_type": "display_data"
    },
    {
     "data": {
      "application/vnd.jupyter.widget-view+json": {
       "model_id": "6d6004c267244498a0cd00719e3928c8",
       "version_major": 2,
       "version_minor": 0
      },
      "text/plain": [
       "  0%|          | 0/797423 [00:00<?, ?it/s]"
      ]
     },
     "metadata": {},
     "output_type": "display_data"
    },
    {
     "data": {
      "application/vnd.jupyter.widget-view+json": {
       "model_id": "192a5a597cd84cd3aea085f263511d93",
       "version_major": 2,
       "version_minor": 0
      },
      "text/plain": [
       "  0%|          | 0/850489 [00:00<?, ?it/s]"
      ]
     },
     "metadata": {},
     "output_type": "display_data"
    },
    {
     "data": {
      "application/vnd.jupyter.widget-view+json": {
       "model_id": "8f6f06696edf40e1b2b97dc6c01f374c",
       "version_major": 2,
       "version_minor": 0
      },
      "text/plain": [
       "  0%|          | 0/850489 [00:00<?, ?it/s]"
      ]
     },
     "metadata": {},
     "output_type": "display_data"
    },
    {
     "data": {
      "application/vnd.jupyter.widget-view+json": {
       "model_id": "2a15fead63bc4e7396d1cc0370b90ef5",
       "version_major": 2,
       "version_minor": 0
      },
      "text/plain": [
       "  0%|          | 0/850489 [00:00<?, ?it/s]"
      ]
     },
     "metadata": {},
     "output_type": "display_data"
    },
    {
     "data": {
      "application/vnd.jupyter.widget-view+json": {
       "model_id": "46937897625a47738b13b2008151d2be",
       "version_major": 2,
       "version_minor": 0
      },
      "text/plain": [
       "  0%|          | 0/850489 [00:00<?, ?it/s]"
      ]
     },
     "metadata": {},
     "output_type": "display_data"
    },
    {
     "data": {
      "application/vnd.jupyter.widget-view+json": {
       "model_id": "3c6000ef443140daa7e0810068a2d660",
       "version_major": 2,
       "version_minor": 0
      },
      "text/plain": [
       "  0%|          | 0/850489 [00:00<?, ?it/s]"
      ]
     },
     "metadata": {},
     "output_type": "display_data"
    },
    {
     "data": {
      "application/vnd.jupyter.widget-view+json": {
       "model_id": "158db54bf03148da98286fc137c22ad6",
       "version_major": 2,
       "version_minor": 0
      },
      "text/plain": [
       "  0%|          | 0/850489 [00:00<?, ?it/s]"
      ]
     },
     "metadata": {},
     "output_type": "display_data"
    },
    {
     "data": {
      "application/vnd.jupyter.widget-view+json": {
       "model_id": "9e45c30f8fe24c91ab6154d8259f563b",
       "version_major": 2,
       "version_minor": 0
      },
      "text/plain": [
       "  0%|          | 0/906071 [00:00<?, ?it/s]"
      ]
     },
     "metadata": {},
     "output_type": "display_data"
    },
    {
     "data": {
      "application/vnd.jupyter.widget-view+json": {
       "model_id": "e6677b55161b4cfdba3020b40887f12f",
       "version_major": 2,
       "version_minor": 0
      },
      "text/plain": [
       "  0%|          | 0/906071 [00:00<?, ?it/s]"
      ]
     },
     "metadata": {},
     "output_type": "display_data"
    },
    {
     "data": {
      "application/vnd.jupyter.widget-view+json": {
       "model_id": "d7f3f300a7844af782b1e22967520d66",
       "version_major": 2,
       "version_minor": 0
      },
      "text/plain": [
       "  0%|          | 0/906071 [00:00<?, ?it/s]"
      ]
     },
     "metadata": {},
     "output_type": "display_data"
    },
    {
     "data": {
      "application/vnd.jupyter.widget-view+json": {
       "model_id": "7943f1aede7c476ca37dcecb29926776",
       "version_major": 2,
       "version_minor": 0
      },
      "text/plain": [
       "  0%|          | 0/906071 [00:00<?, ?it/s]"
      ]
     },
     "metadata": {},
     "output_type": "display_data"
    },
    {
     "data": {
      "application/vnd.jupyter.widget-view+json": {
       "model_id": "d4ecbaddf5624e96906661e9cbdc2458",
       "version_major": 2,
       "version_minor": 0
      },
      "text/plain": [
       "  0%|          | 0/906071 [00:00<?, ?it/s]"
      ]
     },
     "metadata": {},
     "output_type": "display_data"
    },
    {
     "data": {
      "application/vnd.jupyter.widget-view+json": {
       "model_id": "f925c87cb01744d7ac5963017cebe42a",
       "version_major": 2,
       "version_minor": 0
      },
      "text/plain": [
       "  0%|          | 0/906071 [00:00<?, ?it/s]"
      ]
     },
     "metadata": {},
     "output_type": "display_data"
    },
    {
     "data": {
      "text/html": [
       "<style type=\"text/css\">\n",
       "#T_93a8c_row0_col0, #T_93a8c_row0_col2, #T_93a8c_row0_col4, #T_93a8c_row0_col6, #T_93a8c_row1_col0, #T_93a8c_row1_col2, #T_93a8c_row1_col4, #T_93a8c_row1_col6, #T_93a8c_row2_col8, #T_93a8c_row2_col10, #T_93a8c_row3_col8, #T_93a8c_row3_col10 {\n",
       "  background-color: #da3b46;\n",
       "  color: #f1f1f1;\n",
       "}\n",
       "#T_93a8c_row0_col8, #T_93a8c_row0_col10, #T_93a8c_row1_col8, #T_93a8c_row1_col10, #T_93a8c_row2_col0, #T_93a8c_row2_col2, #T_93a8c_row2_col4, #T_93a8c_row2_col6, #T_93a8c_row3_col0, #T_93a8c_row3_col2, #T_93a8c_row3_col4, #T_93a8c_row3_col6 {\n",
       "  background-color: #398649;\n",
       "  color: #f1f1f1;\n",
       "}\n",
       "#T_93a8c_row4_col0, #T_93a8c_row5_col0 {\n",
       "  background-color: #b7d2bd;\n",
       "  color: #000000;\n",
       "}\n",
       "#T_93a8c_row4_col2, #T_93a8c_row5_col2 {\n",
       "  background-color: #a9cab0;\n",
       "  color: #000000;\n",
       "}\n",
       "#T_93a8c_row4_col4, #T_93a8c_row4_col6, #T_93a8c_row5_col4, #T_93a8c_row5_col6 {\n",
       "  background-color: #a1c5a8;\n",
       "  color: #000000;\n",
       "}\n",
       "#T_93a8c_row4_col8, #T_93a8c_row5_col8 {\n",
       "  background-color: #ebbcbf;\n",
       "  color: #000000;\n",
       "}\n",
       "#T_93a8c_row4_col10, #T_93a8c_row5_col10 {\n",
       "  background-color: #dd505a;\n",
       "  color: #f1f1f1;\n",
       "}\n",
       "</style>\n",
       "<table id=\"T_93a8c\">\n",
       "  <thead>\n",
       "    <tr>\n",
       "      <th class=\"index_name level0\" >Metric</th>\n",
       "      <th id=\"T_93a8c_level0_col0\" class=\"col_heading level0 col0\" colspan=\"2\">MAP</th>\n",
       "      <th id=\"T_93a8c_level0_col2\" class=\"col_heading level0 col2\" colspan=\"2\">NDCG</th>\n",
       "      <th id=\"T_93a8c_level0_col4\" class=\"col_heading level0 col4\" colspan=\"2\">precision</th>\n",
       "      <th id=\"T_93a8c_level0_col6\" class=\"col_heading level0 col6\" colspan=\"2\">recall</th>\n",
       "      <th id=\"T_93a8c_level0_col8\" class=\"col_heading level0 col8\" colspan=\"2\">novelty</th>\n",
       "      <th id=\"T_93a8c_level0_col10\" class=\"col_heading level0 col10\" colspan=\"2\">serendipity</th>\n",
       "    </tr>\n",
       "    <tr>\n",
       "      <th class=\"index_name level1\" >At</th>\n",
       "      <th id=\"T_93a8c_level1_col0\" class=\"col_heading level1 col0\" colspan=\"2\">10</th>\n",
       "      <th id=\"T_93a8c_level1_col2\" class=\"col_heading level1 col2\" colspan=\"2\">10</th>\n",
       "      <th id=\"T_93a8c_level1_col4\" class=\"col_heading level1 col4\" colspan=\"2\">10</th>\n",
       "      <th id=\"T_93a8c_level1_col6\" class=\"col_heading level1 col6\" colspan=\"2\">10</th>\n",
       "      <th id=\"T_93a8c_level1_col8\" class=\"col_heading level1 col8\" colspan=\"2\">10</th>\n",
       "      <th id=\"T_93a8c_level1_col10\" class=\"col_heading level1 col10\" colspan=\"2\">10</th>\n",
       "    </tr>\n",
       "    <tr>\n",
       "      <th class=\"index_name level2\" >Stat</th>\n",
       "      <th id=\"T_93a8c_level2_col0\" class=\"col_heading level2 col0\" >mean</th>\n",
       "      <th id=\"T_93a8c_level2_col1\" class=\"col_heading level2 col1\" >std</th>\n",
       "      <th id=\"T_93a8c_level2_col2\" class=\"col_heading level2 col2\" >mean</th>\n",
       "      <th id=\"T_93a8c_level2_col3\" class=\"col_heading level2 col3\" >std</th>\n",
       "      <th id=\"T_93a8c_level2_col4\" class=\"col_heading level2 col4\" >mean</th>\n",
       "      <th id=\"T_93a8c_level2_col5\" class=\"col_heading level2 col5\" >std</th>\n",
       "      <th id=\"T_93a8c_level2_col6\" class=\"col_heading level2 col6\" >mean</th>\n",
       "      <th id=\"T_93a8c_level2_col7\" class=\"col_heading level2 col7\" >std</th>\n",
       "      <th id=\"T_93a8c_level2_col8\" class=\"col_heading level2 col8\" >mean</th>\n",
       "      <th id=\"T_93a8c_level2_col9\" class=\"col_heading level2 col9\" >std</th>\n",
       "      <th id=\"T_93a8c_level2_col10\" class=\"col_heading level2 col10\" >mean</th>\n",
       "      <th id=\"T_93a8c_level2_col11\" class=\"col_heading level2 col11\" >std</th>\n",
       "    </tr>\n",
       "    <tr>\n",
       "      <th class=\"index_name level0\" >model</th>\n",
       "      <th class=\"blank col0\" >&nbsp;</th>\n",
       "      <th class=\"blank col1\" >&nbsp;</th>\n",
       "      <th class=\"blank col2\" >&nbsp;</th>\n",
       "      <th class=\"blank col3\" >&nbsp;</th>\n",
       "      <th class=\"blank col4\" >&nbsp;</th>\n",
       "      <th class=\"blank col5\" >&nbsp;</th>\n",
       "      <th class=\"blank col6\" >&nbsp;</th>\n",
       "      <th class=\"blank col7\" >&nbsp;</th>\n",
       "      <th class=\"blank col8\" >&nbsp;</th>\n",
       "      <th class=\"blank col9\" >&nbsp;</th>\n",
       "      <th class=\"blank col10\" >&nbsp;</th>\n",
       "      <th class=\"blank col11\" >&nbsp;</th>\n",
       "    </tr>\n",
       "  </thead>\n",
       "  <tbody>\n",
       "    <tr>\n",
       "      <th id=\"T_93a8c_level0_row0\" class=\"row_heading level0 row0\" >userknn__bm25_30</th>\n",
       "      <td id=\"T_93a8c_row0_col0\" class=\"data row0 col0\" >0.030053</td>\n",
       "      <td id=\"T_93a8c_row0_col1\" class=\"data row0 col1\" >0.002200</td>\n",
       "      <td id=\"T_93a8c_row0_col2\" class=\"data row0 col2\" >0.018727</td>\n",
       "      <td id=\"T_93a8c_row0_col3\" class=\"data row0 col3\" >0.001299</td>\n",
       "      <td id=\"T_93a8c_row0_col4\" class=\"data row0 col4\" >0.018627</td>\n",
       "      <td id=\"T_93a8c_row0_col5\" class=\"data row0 col5\" >0.001266</td>\n",
       "      <td id=\"T_93a8c_row0_col6\" class=\"data row0 col6\" >0.095763</td>\n",
       "      <td id=\"T_93a8c_row0_col7\" class=\"data row0 col7\" >0.006280</td>\n",
       "      <td id=\"T_93a8c_row0_col8\" class=\"data row0 col8\" >15.151622</td>\n",
       "      <td id=\"T_93a8c_row0_col9\" class=\"data row0 col9\" >0.422586</td>\n",
       "      <td id=\"T_93a8c_row0_col10\" class=\"data row0 col10\" >0.000000</td>\n",
       "      <td id=\"T_93a8c_row0_col11\" class=\"data row0 col11\" >0.000000</td>\n",
       "    </tr>\n",
       "    <tr>\n",
       "      <th id=\"T_93a8c_level0_row1\" class=\"row_heading level0 row1\" >userknn__bm25_70</th>\n",
       "      <td id=\"T_93a8c_row1_col0\" class=\"data row1 col0\" >0.030053</td>\n",
       "      <td id=\"T_93a8c_row1_col1\" class=\"data row1 col1\" >0.002200</td>\n",
       "      <td id=\"T_93a8c_row1_col2\" class=\"data row1 col2\" >0.018727</td>\n",
       "      <td id=\"T_93a8c_row1_col3\" class=\"data row1 col3\" >0.001299</td>\n",
       "      <td id=\"T_93a8c_row1_col4\" class=\"data row1 col4\" >0.018627</td>\n",
       "      <td id=\"T_93a8c_row1_col5\" class=\"data row1 col5\" >0.001266</td>\n",
       "      <td id=\"T_93a8c_row1_col6\" class=\"data row1 col6\" >0.095763</td>\n",
       "      <td id=\"T_93a8c_row1_col7\" class=\"data row1 col7\" >0.006280</td>\n",
       "      <td id=\"T_93a8c_row1_col8\" class=\"data row1 col8\" >15.151622</td>\n",
       "      <td id=\"T_93a8c_row1_col9\" class=\"data row1 col9\" >0.422586</td>\n",
       "      <td id=\"T_93a8c_row1_col10\" class=\"data row1 col10\" >0.000000</td>\n",
       "      <td id=\"T_93a8c_row1_col11\" class=\"data row1 col11\" >0.000000</td>\n",
       "    </tr>\n",
       "    <tr>\n",
       "      <th id=\"T_93a8c_level0_row2\" class=\"row_heading level0 row2\" >userknn__cos_30</th>\n",
       "      <td id=\"T_93a8c_row2_col0\" class=\"data row2 col0\" >0.031749</td>\n",
       "      <td id=\"T_93a8c_row2_col1\" class=\"data row2 col1\" >0.002105</td>\n",
       "      <td id=\"T_93a8c_row2_col2\" class=\"data row2 col2\" >0.020301</td>\n",
       "      <td id=\"T_93a8c_row2_col3\" class=\"data row2 col3\" >0.001182</td>\n",
       "      <td id=\"T_93a8c_row2_col4\" class=\"data row2 col4\" >0.020770</td>\n",
       "      <td id=\"T_93a8c_row2_col5\" class=\"data row2 col5\" >0.001075</td>\n",
       "      <td id=\"T_93a8c_row2_col6\" class=\"data row2 col6\" >0.106955</td>\n",
       "      <td id=\"T_93a8c_row2_col7\" class=\"data row2 col7\" >0.005425</td>\n",
       "      <td id=\"T_93a8c_row2_col8\" class=\"data row2 col8\" >15.119545</td>\n",
       "      <td id=\"T_93a8c_row2_col9\" class=\"data row2 col9\" >0.510257</td>\n",
       "      <td id=\"T_93a8c_row2_col10\" class=\"data row2 col10\" >0.000000</td>\n",
       "      <td id=\"T_93a8c_row2_col11\" class=\"data row2 col11\" >0.000000</td>\n",
       "    </tr>\n",
       "    <tr>\n",
       "      <th id=\"T_93a8c_level0_row3\" class=\"row_heading level0 row3\" >userknn__cos_70</th>\n",
       "      <td id=\"T_93a8c_row3_col0\" class=\"data row3 col0\" >0.031749</td>\n",
       "      <td id=\"T_93a8c_row3_col1\" class=\"data row3 col1\" >0.002105</td>\n",
       "      <td id=\"T_93a8c_row3_col2\" class=\"data row3 col2\" >0.020301</td>\n",
       "      <td id=\"T_93a8c_row3_col3\" class=\"data row3 col3\" >0.001182</td>\n",
       "      <td id=\"T_93a8c_row3_col4\" class=\"data row3 col4\" >0.020770</td>\n",
       "      <td id=\"T_93a8c_row3_col5\" class=\"data row3 col5\" >0.001075</td>\n",
       "      <td id=\"T_93a8c_row3_col6\" class=\"data row3 col6\" >0.106955</td>\n",
       "      <td id=\"T_93a8c_row3_col7\" class=\"data row3 col7\" >0.005425</td>\n",
       "      <td id=\"T_93a8c_row3_col8\" class=\"data row3 col8\" >15.119545</td>\n",
       "      <td id=\"T_93a8c_row3_col9\" class=\"data row3 col9\" >0.510257</td>\n",
       "      <td id=\"T_93a8c_row3_col10\" class=\"data row3 col10\" >0.000000</td>\n",
       "      <td id=\"T_93a8c_row3_col11\" class=\"data row3 col11\" >0.000000</td>\n",
       "    </tr>\n",
       "    <tr>\n",
       "      <th id=\"T_93a8c_level0_row4\" class=\"row_heading level0 row4\" >userknn__tfidf_30</th>\n",
       "      <td id=\"T_93a8c_row4_col0\" class=\"data row4 col0\" >0.031154</td>\n",
       "      <td id=\"T_93a8c_row4_col1\" class=\"data row4 col1\" >0.002076</td>\n",
       "      <td id=\"T_93a8c_row4_col2\" class=\"data row4 col2\" >0.019811</td>\n",
       "      <td id=\"T_93a8c_row4_col3\" class=\"data row4 col3\" >0.001152</td>\n",
       "      <td id=\"T_93a8c_row4_col4\" class=\"data row4 col4\" >0.020152</td>\n",
       "      <td id=\"T_93a8c_row4_col5\" class=\"data row4 col5\" >0.001053</td>\n",
       "      <td id=\"T_93a8c_row4_col6\" class=\"data row4 col6\" >0.103729</td>\n",
       "      <td id=\"T_93a8c_row4_col7\" class=\"data row4 col7\" >0.005442</td>\n",
       "      <td id=\"T_93a8c_row4_col8\" class=\"data row4 col8\" >15.130861</td>\n",
       "      <td id=\"T_93a8c_row4_col9\" class=\"data row4 col9\" >0.585134</td>\n",
       "      <td id=\"T_93a8c_row4_col10\" class=\"data row4 col10\" >0.000000</td>\n",
       "      <td id=\"T_93a8c_row4_col11\" class=\"data row4 col11\" >0.000000</td>\n",
       "    </tr>\n",
       "    <tr>\n",
       "      <th id=\"T_93a8c_level0_row5\" class=\"row_heading level0 row5\" >userknn__tfidf_70</th>\n",
       "      <td id=\"T_93a8c_row5_col0\" class=\"data row5 col0\" >0.031154</td>\n",
       "      <td id=\"T_93a8c_row5_col1\" class=\"data row5 col1\" >0.002076</td>\n",
       "      <td id=\"T_93a8c_row5_col2\" class=\"data row5 col2\" >0.019811</td>\n",
       "      <td id=\"T_93a8c_row5_col3\" class=\"data row5 col3\" >0.001152</td>\n",
       "      <td id=\"T_93a8c_row5_col4\" class=\"data row5 col4\" >0.020152</td>\n",
       "      <td id=\"T_93a8c_row5_col5\" class=\"data row5 col5\" >0.001053</td>\n",
       "      <td id=\"T_93a8c_row5_col6\" class=\"data row5 col6\" >0.103729</td>\n",
       "      <td id=\"T_93a8c_row5_col7\" class=\"data row5 col7\" >0.005442</td>\n",
       "      <td id=\"T_93a8c_row5_col8\" class=\"data row5 col8\" >15.130861</td>\n",
       "      <td id=\"T_93a8c_row5_col9\" class=\"data row5 col9\" >0.585134</td>\n",
       "      <td id=\"T_93a8c_row5_col10\" class=\"data row5 col10\" >0.000000</td>\n",
       "      <td id=\"T_93a8c_row5_col11\" class=\"data row5 col11\" >0.000000</td>\n",
       "    </tr>\n",
       "  </tbody>\n",
       "</table>\n"
      ],
      "text/plain": [
       "<pandas.io.formats.style.Styler at 0x7f63001f2400>"
      ]
     },
     "metadata": {},
     "output_type": "display_data"
    },
    {
     "name": "stdout",
     "output_type": "stream",
     "text": [
      "CPU times: user 2d 52min 32s, sys: 4min, total: 2d 56min 33s\n",
      "Wall time: 3h 50min 14s\n"
     ]
    }
   ],
   "source": [
    "%%time\n",
    "result_data = calculate_metrics(models_userknn, kion_data, metrics, cv_7d, k_recos=k_recos, style=True, verbose=0)\n",
    "display(result_data)"
   ]
  },
  {
   "cell_type": "markdown",
   "id": "32bdd247-bba5-4a9f-8de8-35478bcc0be6",
   "metadata": {},
   "source": [
    "Давайте проверим лучший: \"userknn__cos_70\"."
   ]
  },
  {
   "cell_type": "code",
   "execution_count": 14,
   "id": "b87520de-031a-4c10-ac3a-1a1ff2d582a3",
   "metadata": {},
   "outputs": [
    {
     "data": {
      "application/vnd.jupyter.widget-view+json": {
       "model_id": "d113d4e6709b4ca4ab63174b6aac2eef",
       "version_major": 2,
       "version_minor": 0
      },
      "text/plain": [
       "  0%|          | 0/962179 [00:00<?, ?it/s]"
      ]
     },
     "metadata": {},
     "output_type": "display_data"
    }
   ],
   "source": [
    "model = deepcopy(models_userknn[\"userknn__cos_70\"])\n",
    "model.fit(dataset_for_train)"
   ]
  },
  {
   "cell_type": "code",
   "execution_count": 15,
   "id": "914e4140-6991-4080-a426-f10e83e480da",
   "metadata": {},
   "outputs": [
    {
     "name": "stdout",
     "output_type": "stream",
     "text": [
      "Visual report\n",
      "----------------------------------------------------------\n",
      "User: 79446\n",
      "Already watched films amount: 33\n",
      "Display last 10 watched:\n",
      "\n"
     ]
    },
    {
     "data": {
      "text/html": [
       "<div>\n",
       "<style scoped>\n",
       "    .dataframe tbody tr th:only-of-type {\n",
       "        vertical-align: middle;\n",
       "    }\n",
       "\n",
       "    .dataframe tbody tr th {\n",
       "        vertical-align: top;\n",
       "    }\n",
       "\n",
       "    .dataframe thead th {\n",
       "        text-align: right;\n",
       "    }\n",
       "</style>\n",
       "<table border=\"1\" class=\"dataframe\">\n",
       "  <thead>\n",
       "    <tr style=\"text-align: right;\">\n",
       "      <th></th>\n",
       "      <th>item_id</th>\n",
       "      <th>datetime</th>\n",
       "      <th>weight</th>\n",
       "      <th>watched_pct</th>\n",
       "      <th>item_id_x</th>\n",
       "      <th>title</th>\n",
       "      <th>genres</th>\n",
       "      <th>item_id_y</th>\n",
       "    </tr>\n",
       "  </thead>\n",
       "  <tbody>\n",
       "    <tr>\n",
       "      <th>15</th>\n",
       "      <td>512</td>\n",
       "      <td>2021-08-15</td>\n",
       "      <td>3303.0</td>\n",
       "      <td>58.0</td>\n",
       "      <td>512</td>\n",
       "      <td>Рядовой Чээрин</td>\n",
       "      <td>военные</td>\n",
       "      <td>10230</td>\n",
       "    </tr>\n",
       "    <tr>\n",
       "      <th>32</th>\n",
       "      <td>1896</td>\n",
       "      <td>2021-08-01</td>\n",
       "      <td>3720.0</td>\n",
       "      <td>57.0</td>\n",
       "      <td>1896</td>\n",
       "      <td>Явление</td>\n",
       "      <td>драмы, военные</td>\n",
       "      <td>674</td>\n",
       "    </tr>\n",
       "    <tr>\n",
       "      <th>19</th>\n",
       "      <td>7597</td>\n",
       "      <td>2021-08-01</td>\n",
       "      <td>5752.0</td>\n",
       "      <td>100.0</td>\n",
       "      <td>7597</td>\n",
       "      <td>Препод: История Галатеи</td>\n",
       "      <td>драмы, триллеры, криминал</td>\n",
       "      <td>1717</td>\n",
       "    </tr>\n",
       "    <tr>\n",
       "      <th>9</th>\n",
       "      <td>16415</td>\n",
       "      <td>2021-07-28</td>\n",
       "      <td>6847.0</td>\n",
       "      <td>100.0</td>\n",
       "      <td>16415</td>\n",
       "      <td>Весна</td>\n",
       "      <td>фантастика, ужасы, мелодрамы</td>\n",
       "      <td>624</td>\n",
       "    </tr>\n",
       "    <tr>\n",
       "      <th>7</th>\n",
       "      <td>4880</td>\n",
       "      <td>2021-07-25</td>\n",
       "      <td>2634.0</td>\n",
       "      <td>9.0</td>\n",
       "      <td>4880</td>\n",
       "      <td>Афера</td>\n",
       "      <td>комедии</td>\n",
       "      <td>55043</td>\n",
       "    </tr>\n",
       "    <tr>\n",
       "      <th>14</th>\n",
       "      <td>12356</td>\n",
       "      <td>2021-07-18</td>\n",
       "      <td>4071.0</td>\n",
       "      <td>77.0</td>\n",
       "      <td>12356</td>\n",
       "      <td>13 грехов</td>\n",
       "      <td>ужасы, триллеры</td>\n",
       "      <td>6874</td>\n",
       "    </tr>\n",
       "    <tr>\n",
       "      <th>30</th>\n",
       "      <td>9194</td>\n",
       "      <td>2021-07-17</td>\n",
       "      <td>6760.0</td>\n",
       "      <td>95.0</td>\n",
       "      <td>9194</td>\n",
       "      <td>Роберт — король Шотландии</td>\n",
       "      <td>боевики</td>\n",
       "      <td>8030</td>\n",
       "    </tr>\n",
       "    <tr>\n",
       "      <th>18</th>\n",
       "      <td>9728</td>\n",
       "      <td>2021-07-17</td>\n",
       "      <td>52.0</td>\n",
       "      <td>1.0</td>\n",
       "      <td>9728</td>\n",
       "      <td>Гнев человеческий</td>\n",
       "      <td>боевики, триллеры</td>\n",
       "      <td>132865</td>\n",
       "    </tr>\n",
       "    <tr>\n",
       "      <th>5</th>\n",
       "      <td>10240</td>\n",
       "      <td>2021-07-16</td>\n",
       "      <td>6126.0</td>\n",
       "      <td>100.0</td>\n",
       "      <td>10240</td>\n",
       "      <td>Клаустрофобы</td>\n",
       "      <td>триллеры</td>\n",
       "      <td>4336</td>\n",
       "    </tr>\n",
       "    <tr>\n",
       "      <th>25</th>\n",
       "      <td>10464</td>\n",
       "      <td>2021-07-13</td>\n",
       "      <td>8.0</td>\n",
       "      <td>0.0</td>\n",
       "      <td>10464</td>\n",
       "      <td>Вирус страха</td>\n",
       "      <td>драмы, триллеры</td>\n",
       "      <td>10375</td>\n",
       "    </tr>\n",
       "  </tbody>\n",
       "</table>\n",
       "</div>"
      ],
      "text/plain": [
       "    item_id   datetime  weight  watched_pct  item_id_x  \\\n",
       "15      512 2021-08-15  3303.0         58.0        512   \n",
       "32     1896 2021-08-01  3720.0         57.0       1896   \n",
       "19     7597 2021-08-01  5752.0        100.0       7597   \n",
       "9     16415 2021-07-28  6847.0        100.0      16415   \n",
       "7      4880 2021-07-25  2634.0          9.0       4880   \n",
       "14    12356 2021-07-18  4071.0         77.0      12356   \n",
       "30     9194 2021-07-17  6760.0         95.0       9194   \n",
       "18     9728 2021-07-17    52.0          1.0       9728   \n",
       "5     10240 2021-07-16  6126.0        100.0      10240   \n",
       "25    10464 2021-07-13     8.0          0.0      10464   \n",
       "\n",
       "                        title                        genres  item_id_y  \n",
       "15             Рядовой Чээрин                       военные      10230  \n",
       "32                    Явление                драмы, военные        674  \n",
       "19    Препод: История Галатеи     драмы, триллеры, криминал       1717  \n",
       "9                       Весна  фантастика, ужасы, мелодрамы        624  \n",
       "7                       Афера                       комедии      55043  \n",
       "14                  13 грехов               ужасы, триллеры       6874  \n",
       "30  Роберт — король Шотландии                       боевики       8030  \n",
       "18          Гнев человеческий             боевики, триллеры     132865  \n",
       "5                Клаустрофобы                      триллеры       4336  \n",
       "25               Вирус страха               драмы, триллеры      10375  "
      ]
     },
     "metadata": {},
     "output_type": "display_data"
    },
    {
     "name": "stdout",
     "output_type": "stream",
     "text": [
      "\n",
      "Recommended films amount: 10\n",
      "(Amount of all films: 15706)\n",
      "Display first 10 recommendations:\n"
     ]
    },
    {
     "data": {
      "text/html": [
       "<div>\n",
       "<style scoped>\n",
       "    .dataframe tbody tr th:only-of-type {\n",
       "        vertical-align: middle;\n",
       "    }\n",
       "\n",
       "    .dataframe tbody tr th {\n",
       "        vertical-align: top;\n",
       "    }\n",
       "\n",
       "    .dataframe thead th {\n",
       "        text-align: right;\n",
       "    }\n",
       "</style>\n",
       "<table border=\"1\" class=\"dataframe\">\n",
       "  <thead>\n",
       "    <tr style=\"text-align: right;\">\n",
       "      <th></th>\n",
       "      <th>item_id</th>\n",
       "      <th>score</th>\n",
       "      <th>rank</th>\n",
       "      <th>item_id_x</th>\n",
       "      <th>title</th>\n",
       "      <th>genres</th>\n",
       "      <th>item_id_y</th>\n",
       "    </tr>\n",
       "  </thead>\n",
       "  <tbody>\n",
       "    <tr>\n",
       "      <th>0</th>\n",
       "      <td>4352</td>\n",
       "      <td>3.81791</td>\n",
       "      <td>1</td>\n",
       "      <td>4352.0</td>\n",
       "      <td>Картина маслом</td>\n",
       "      <td>комедии</td>\n",
       "      <td>464.0</td>\n",
       "    </tr>\n",
       "    <tr>\n",
       "      <th>1</th>\n",
       "      <td>1646</td>\n",
       "      <td>3.755157</td>\n",
       "      <td>2</td>\n",
       "      <td>1646.0</td>\n",
       "      <td>Девушка грез</td>\n",
       "      <td>драмы, комедии</td>\n",
       "      <td>573.0</td>\n",
       "    </tr>\n",
       "    <tr>\n",
       "      <th>2</th>\n",
       "      <td>925</td>\n",
       "      <td>3.715795</td>\n",
       "      <td>3</td>\n",
       "      <td>925.0</td>\n",
       "      <td>Дальневосточная экспедиция</td>\n",
       "      <td>русские, познавательные, документальное</td>\n",
       "      <td>1.0</td>\n",
       "    </tr>\n",
       "    <tr>\n",
       "      <th>3</th>\n",
       "      <td>1746</td>\n",
       "      <td>3.702636</td>\n",
       "      <td>4</td>\n",
       "      <td>1746.0</td>\n",
       "      <td>Дорога домой 2: Затерянные в Сан-Франциско</td>\n",
       "      <td>мелодрамы, семейное, комедии</td>\n",
       "      <td>15.0</td>\n",
       "    </tr>\n",
       "    <tr>\n",
       "      <th>4</th>\n",
       "      <td>1830</td>\n",
       "      <td>3.643151</td>\n",
       "      <td>5</td>\n",
       "      <td>NaN</td>\n",
       "      <td>NaN</td>\n",
       "      <td>NaN</td>\n",
       "      <td>NaN</td>\n",
       "    </tr>\n",
       "    <tr>\n",
       "      <th>5</th>\n",
       "      <td>2288</td>\n",
       "      <td>3.62474</td>\n",
       "      <td>6</td>\n",
       "      <td>2288.0</td>\n",
       "      <td>Операция «Колибри»</td>\n",
       "      <td>драмы, зарубежные, триллеры</td>\n",
       "      <td>4.0</td>\n",
       "    </tr>\n",
       "    <tr>\n",
       "      <th>6</th>\n",
       "      <td>2402</td>\n",
       "      <td>3.44575</td>\n",
       "      <td>7</td>\n",
       "      <td>2402.0</td>\n",
       "      <td>Мир Аоту</td>\n",
       "      <td>мультсериалы</td>\n",
       "      <td>59.0</td>\n",
       "    </tr>\n",
       "    <tr>\n",
       "      <th>7</th>\n",
       "      <td>1195</td>\n",
       "      <td>3.373776</td>\n",
       "      <td>8</td>\n",
       "      <td>1195.0</td>\n",
       "      <td>[4К] Розалила, уникальный храм. Гондурас</td>\n",
       "      <td>документальное</td>\n",
       "      <td>1.0</td>\n",
       "    </tr>\n",
       "    <tr>\n",
       "      <th>8</th>\n",
       "      <td>595</td>\n",
       "      <td>3.326166</td>\n",
       "      <td>9</td>\n",
       "      <td>595.0</td>\n",
       "      <td>Астана – любовь моя</td>\n",
       "      <td>драмы, мелодрамы</td>\n",
       "      <td>1.0</td>\n",
       "    </tr>\n",
       "    <tr>\n",
       "      <th>9</th>\n",
       "      <td>1079</td>\n",
       "      <td>3.250239</td>\n",
       "      <td>10</td>\n",
       "      <td>1079.0</td>\n",
       "      <td>Посчитай скрытые предметы</td>\n",
       "      <td>развитие, сериалы, хочу всё знать</td>\n",
       "      <td>9.0</td>\n",
       "    </tr>\n",
       "  </tbody>\n",
       "</table>\n",
       "</div>"
      ],
      "text/plain": [
       "  item_id     score  rank  item_id_x  \\\n",
       "0    4352   3.81791     1     4352.0   \n",
       "1    1646  3.755157     2     1646.0   \n",
       "2     925  3.715795     3      925.0   \n",
       "3    1746  3.702636     4     1746.0   \n",
       "4    1830  3.643151     5        NaN   \n",
       "5    2288   3.62474     6     2288.0   \n",
       "6    2402   3.44575     7     2402.0   \n",
       "7    1195  3.373776     8     1195.0   \n",
       "8     595  3.326166     9      595.0   \n",
       "9    1079  3.250239    10     1079.0   \n",
       "\n",
       "                                        title  \\\n",
       "0                              Картина маслом   \n",
       "1                                Девушка грез   \n",
       "2                  Дальневосточная экспедиция   \n",
       "3  Дорога домой 2: Затерянные в Сан-Франциско   \n",
       "4                                         NaN   \n",
       "5                          Операция «Колибри»   \n",
       "6                                    Мир Аоту   \n",
       "7    [4К] Розалила, уникальный храм. Гондурас   \n",
       "8                         Астана – любовь моя   \n",
       "9                   Посчитай скрытые предметы   \n",
       "\n",
       "                                    genres  item_id_y  \n",
       "0                                  комедии      464.0  \n",
       "1                           драмы, комедии      573.0  \n",
       "2  русские, познавательные, документальное        1.0  \n",
       "3             мелодрамы, семейное, комедии       15.0  \n",
       "4                                      NaN        NaN  \n",
       "5              драмы, зарубежные, триллеры        4.0  \n",
       "6                             мультсериалы       59.0  \n",
       "7                           документальное        1.0  \n",
       "8                         драмы, мелодрамы        1.0  \n",
       "9        развитие, сериалы, хочу всё знать        9.0  "
      ]
     },
     "metadata": {},
     "output_type": "display_data"
    },
    {
     "name": "stdout",
     "output_type": "stream",
     "text": [
      "----------------------------------------------------------\n",
      "User: 1074610\n",
      "Already watched films amount: 1\n",
      "Display last 10 watched:\n",
      "\n"
     ]
    },
    {
     "data": {
      "text/html": [
       "<div>\n",
       "<style scoped>\n",
       "    .dataframe tbody tr th:only-of-type {\n",
       "        vertical-align: middle;\n",
       "    }\n",
       "\n",
       "    .dataframe tbody tr th {\n",
       "        vertical-align: top;\n",
       "    }\n",
       "\n",
       "    .dataframe thead th {\n",
       "        text-align: right;\n",
       "    }\n",
       "</style>\n",
       "<table border=\"1\" class=\"dataframe\">\n",
       "  <thead>\n",
       "    <tr style=\"text-align: right;\">\n",
       "      <th></th>\n",
       "      <th>item_id</th>\n",
       "      <th>datetime</th>\n",
       "      <th>weight</th>\n",
       "      <th>watched_pct</th>\n",
       "      <th>item_id_x</th>\n",
       "      <th>title</th>\n",
       "      <th>genres</th>\n",
       "      <th>item_id_y</th>\n",
       "    </tr>\n",
       "  </thead>\n",
       "  <tbody>\n",
       "    <tr>\n",
       "      <th>0</th>\n",
       "      <td>15297</td>\n",
       "      <td>2021-07-28</td>\n",
       "      <td>1402.0</td>\n",
       "      <td>13.0</td>\n",
       "      <td>15297</td>\n",
       "      <td>Клиника счастья</td>\n",
       "      <td>драмы, мелодрамы</td>\n",
       "      <td>193123</td>\n",
       "    </tr>\n",
       "  </tbody>\n",
       "</table>\n",
       "</div>"
      ],
      "text/plain": [
       "   item_id   datetime  weight  watched_pct  item_id_x            title  \\\n",
       "0    15297 2021-07-28  1402.0         13.0      15297  Клиника счастья   \n",
       "\n",
       "             genres  item_id_y  \n",
       "0  драмы, мелодрамы     193123  "
      ]
     },
     "metadata": {},
     "output_type": "display_data"
    },
    {
     "name": "stdout",
     "output_type": "stream",
     "text": [
      "\n",
      "Recommended films amount: 10\n",
      "(Amount of all films: 15706)\n",
      "Display first 10 recommendations:\n"
     ]
    },
    {
     "data": {
      "text/html": [
       "<div>\n",
       "<style scoped>\n",
       "    .dataframe tbody tr th:only-of-type {\n",
       "        vertical-align: middle;\n",
       "    }\n",
       "\n",
       "    .dataframe tbody tr th {\n",
       "        vertical-align: top;\n",
       "    }\n",
       "\n",
       "    .dataframe thead th {\n",
       "        text-align: right;\n",
       "    }\n",
       "</style>\n",
       "<table border=\"1\" class=\"dataframe\">\n",
       "  <thead>\n",
       "    <tr style=\"text-align: right;\">\n",
       "      <th></th>\n",
       "      <th>item_id</th>\n",
       "      <th>score</th>\n",
       "      <th>rank</th>\n",
       "      <th>item_id_x</th>\n",
       "      <th>title</th>\n",
       "      <th>genres</th>\n",
       "      <th>item_id_y</th>\n",
       "    </tr>\n",
       "  </thead>\n",
       "  <tbody>\n",
       "    <tr>\n",
       "      <th>0</th>\n",
       "      <td>15297</td>\n",
       "      <td>0.001482</td>\n",
       "      <td>1</td>\n",
       "      <td>15297</td>\n",
       "      <td>Клиника счастья</td>\n",
       "      <td>драмы, мелодрамы</td>\n",
       "      <td>193123</td>\n",
       "    </tr>\n",
       "    <tr>\n",
       "      <th>1</th>\n",
       "      <td>13865</td>\n",
       "      <td>0.001413</td>\n",
       "      <td>2</td>\n",
       "      <td>13865</td>\n",
       "      <td>Девятаев</td>\n",
       "      <td>драмы, военные, приключения</td>\n",
       "      <td>122119</td>\n",
       "    </tr>\n",
       "    <tr>\n",
       "      <th>2</th>\n",
       "      <td>10440</td>\n",
       "      <td>0.001344</td>\n",
       "      <td>3</td>\n",
       "      <td>10440</td>\n",
       "      <td>Хрустальный</td>\n",
       "      <td>триллеры, детективы</td>\n",
       "      <td>202457</td>\n",
       "    </tr>\n",
       "    <tr>\n",
       "      <th>3</th>\n",
       "      <td>9728</td>\n",
       "      <td>0.001344</td>\n",
       "      <td>4</td>\n",
       "      <td>9728</td>\n",
       "      <td>Гнев человеческий</td>\n",
       "      <td>боевики, триллеры</td>\n",
       "      <td>132865</td>\n",
       "    </tr>\n",
       "    <tr>\n",
       "      <th>4</th>\n",
       "      <td>3734</td>\n",
       "      <td>0.001234</td>\n",
       "      <td>5</td>\n",
       "      <td>3734</td>\n",
       "      <td>Прабабушка легкого поведения</td>\n",
       "      <td>комедии</td>\n",
       "      <td>74803</td>\n",
       "    </tr>\n",
       "    <tr>\n",
       "      <th>5</th>\n",
       "      <td>4880</td>\n",
       "      <td>0.001183</td>\n",
       "      <td>6</td>\n",
       "      <td>4880</td>\n",
       "      <td>Афера</td>\n",
       "      <td>комедии</td>\n",
       "      <td>55043</td>\n",
       "    </tr>\n",
       "    <tr>\n",
       "      <th>6</th>\n",
       "      <td>6809</td>\n",
       "      <td>0.001094</td>\n",
       "      <td>7</td>\n",
       "      <td>6809</td>\n",
       "      <td>Дуров</td>\n",
       "      <td>документальное</td>\n",
       "      <td>40372</td>\n",
       "    </tr>\n",
       "    <tr>\n",
       "      <th>7</th>\n",
       "      <td>2657</td>\n",
       "      <td>0.000986</td>\n",
       "      <td>8</td>\n",
       "      <td>2657</td>\n",
       "      <td>Подслушано</td>\n",
       "      <td>драмы, триллеры</td>\n",
       "      <td>68581</td>\n",
       "    </tr>\n",
       "    <tr>\n",
       "      <th>8</th>\n",
       "      <td>4151</td>\n",
       "      <td>0.000973</td>\n",
       "      <td>9</td>\n",
       "      <td>4151</td>\n",
       "      <td>Секреты семейной жизни</td>\n",
       "      <td>комедии</td>\n",
       "      <td>91167</td>\n",
       "    </tr>\n",
       "    <tr>\n",
       "      <th>9</th>\n",
       "      <td>142</td>\n",
       "      <td>0.000461</td>\n",
       "      <td>10</td>\n",
       "      <td>142</td>\n",
       "      <td>Маша</td>\n",
       "      <td>драмы, триллеры</td>\n",
       "      <td>45367</td>\n",
       "    </tr>\n",
       "  </tbody>\n",
       "</table>\n",
       "</div>"
      ],
      "text/plain": [
       "  item_id     score  rank  item_id_x                         title  \\\n",
       "0   15297  0.001482     1      15297               Клиника счастья   \n",
       "1   13865  0.001413     2      13865                      Девятаев   \n",
       "2   10440  0.001344     3      10440                   Хрустальный   \n",
       "3    9728  0.001344     4       9728             Гнев человеческий   \n",
       "4    3734  0.001234     5       3734  Прабабушка легкого поведения   \n",
       "5    4880  0.001183     6       4880                         Афера   \n",
       "6    6809  0.001094     7       6809                         Дуров   \n",
       "7    2657  0.000986     8       2657                    Подслушано   \n",
       "8    4151  0.000973     9       4151        Секреты семейной жизни   \n",
       "9     142  0.000461    10        142                          Маша   \n",
       "\n",
       "                        genres  item_id_y  \n",
       "0             драмы, мелодрамы     193123  \n",
       "1  драмы, военные, приключения     122119  \n",
       "2          триллеры, детективы     202457  \n",
       "3            боевики, триллеры     132865  \n",
       "4                      комедии      74803  \n",
       "5                      комедии      55043  \n",
       "6               документальное      40372  \n",
       "7              драмы, триллеры      68581  \n",
       "8                      комедии      91167  \n",
       "9              драмы, триллеры      45367  "
      ]
     },
     "metadata": {},
     "output_type": "display_data"
    },
    {
     "name": "stdout",
     "output_type": "stream",
     "text": [
      "CPU times: user 2min 4s, sys: 10.3 s, total: 2min 14s\n",
      "Wall time: 2min 12s\n"
     ]
    }
   ],
   "source": [
    "%%time\n",
    "visualize(model=model, dataset=kion_data, user_list=users_list, item_data=item_data, k_recos=10, display=display)"
   ]
  },
  {
   "cell_type": "code",
   "execution_count": 16,
   "id": "ba6d72bf-3b74-4271-924f-7876b306bb11",
   "metadata": {},
   "outputs": [
    {
     "name": "stdout",
     "output_type": "stream",
     "text": [
      "CPU times: user 27.5 ms, sys: 2 µs, total: 27.5 ms\n",
      "Wall time: 25.7 ms\n"
     ]
    },
    {
     "data": {
      "text/plain": [
       "[10440, 15297, 9728, 13865, 4151, 3734, 2657, 4880, 142, 6809]"
      ]
     },
     "execution_count": 16,
     "metadata": {},
     "output_type": "execute_result"
    }
   ],
   "source": [
    "%%time\n",
    "model.recommend_for_user(dataset=dataset_for_train, user_id=-10)"
   ]
  },
  {
   "cell_type": "markdown",
   "id": "7f315d45-d9a7-4bda-87b3-4a49fa43a6fd",
   "metadata": {},
   "source": [
    "Вроде норм"
   ]
  },
  {
   "cell_type": "markdown",
   "id": "6b87a889-3753-48cc-bfea-4839fa43e458",
   "metadata": {},
   "source": [
    "# Сохраним модель"
   ]
  },
  {
   "cell_type": "code",
   "execution_count": 17,
   "id": "aa61d29b-bbb9-4a88-83f8-efb49895ac4d",
   "metadata": {},
   "outputs": [],
   "source": [
    "import pickle"
   ]
  },
  {
   "cell_type": "code",
   "execution_count": 18,
   "id": "d090a829-77f1-45d8-a877-23c932f1b416",
   "metadata": {},
   "outputs": [],
   "source": [
    "model_name = \"../models/pickle_data/user_cos_70.pickle\"\n",
    "pickle.dump(model, open(model_name, \"wb\"))"
   ]
  },
  {
   "cell_type": "markdown",
   "id": "921acc85-939d-49c4-8e41-cf5fef9e201e",
   "metadata": {},
   "source": [
    "# Проверка работоспособности"
   ]
  },
  {
   "cell_type": "code",
   "execution_count": 19,
   "id": "0cb2c205-81db-4914-aea8-25a6b36baaaf",
   "metadata": {},
   "outputs": [],
   "source": [
    "name_cos_70 = \"../models/pickle_data/user_cos_70.pickle\"\n",
    "loaded_cos_70 = pickle.load(open(name_cos_70, \"rb\"))\n",
    "\n",
    "kion_data = read_kion_dataset(fast_check=1)\n",
    "interactions = kion_data[\"interactions\"]\n",
    "data_for_predict = Dataset.construct(interactions.df)"
   ]
  },
  {
   "cell_type": "code",
   "execution_count": 20,
   "id": "be822244-4c24-4345-b201-8788f4790fa5",
   "metadata": {},
   "outputs": [
    {
     "data": {
      "text/plain": [
       "[2068, 482, 1138, 4, 1572, 51, 11, 32, 10440, 15297]"
      ]
     },
     "execution_count": 20,
     "metadata": {},
     "output_type": "execute_result"
    }
   ],
   "source": [
    "user_id = 5\n",
    "\n",
    "model.recommend_for_user(dataset=data_for_predict, user_id=user_id)"
   ]
  },
  {
   "cell_type": "code",
   "execution_count": null,
   "id": "ae3226e6-394d-40c1-8d8a-cc20afcd520f",
   "metadata": {},
   "outputs": [],
   "source": []
  }
 ],
 "metadata": {
  "kernelspec": {
   "display_name": "Python 3 (ipykernel)",
   "language": "python",
   "name": "python3"
  },
  "language_info": {
   "codemirror_mode": {
    "name": "ipython",
    "version": 3
   },
   "file_extension": ".py",
   "mimetype": "text/x-python",
   "name": "python",
   "nbconvert_exporter": "python",
   "pygments_lexer": "ipython3",
   "version": "3.9.18"
  }
 },
 "nbformat": 4,
 "nbformat_minor": 5
}
