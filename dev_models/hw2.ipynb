{
 "cells": [
  {
   "cell_type": "code",
   "execution_count": 9,
   "id": "initial_id",
   "metadata": {
    "collapsed": true,
    "ExecuteTime": {
     "end_time": "2023-11-22T01:43:12.720370210Z",
     "start_time": "2023-11-22T01:43:10.361427890Z"
    }
   },
   "outputs": [],
   "source": [
    "from pprint import pprint\n",
    "import os\n",
    "\n",
    "import numpy as np\n",
    "import pandas as pd\n",
    "\n",
    "import requests\n",
    "from tqdm.auto import tqdm\n",
    "\n",
    "import zipfile as zf\n",
    "\n",
    "from implicit.nearest_neighbours import TFIDFRecommender, BM25Recommender\n",
    "from implicit.als import AlternatingLeastSquares\n",
    "\n",
    "from rectools import Columns\n",
    "from rectools.dataset import Interactions, Dataset\n",
    "from rectools.metrics import MAP, NDCG, Precision, Recall, MeanInvUserFreq, Serendipity, \\\n",
    "    calc_metrics\n",
    "from rectools.models import ImplicitItemKNNWrapperModel, RandomModel, PopularModel\n",
    "from rectools.model_selection import TimeRangeSplitter\n",
    "\n",
    "from dev_eval import calculate_metrics, INTERACTIONS, USERS, ITEMS\n",
    "\n",
    "\n",
    "def headtail(df):\n",
    "    return pd.concat([df.head(), df.tail()])\n",
    "\n",
    "\n",
    "DATA_DIR = '../data'\n",
    "KION_DIR = os.path.join(DATA_DIR, 'data_original')\n",
    "INTERACTIONS_DATA = os.path.join(KION_DIR, 'interactions.csv')\n",
    "USERS_DATA = os.path.join(KION_DIR, 'users.csv')\n",
    "ITEMS_DATA = os.path.join(KION_DIR, 'items.csv')"
   ]
  },
  {
   "cell_type": "markdown",
   "source": [
    "# Параметры тестирования функций"
   ],
   "metadata": {
    "collapsed": false
   },
   "id": "22d419636f6030d8"
  },
  {
   "cell_type": "markdown",
   "source": [
    "Модели: `rectools.models.RandomModel(random_state=32)`, `rectools.models.PopularModel()` с параметрами по умолчанию"
   ],
   "metadata": {
    "collapsed": false
   },
   "id": "fcc985b5b3a12734"
  },
  {
   "cell_type": "code",
   "execution_count": 4,
   "outputs": [],
   "source": [
    "models = {\n",
    "    \"random\": RandomModel(random_state=32),\n",
    "    \"popular\": PopularModel(),\n",
    "}"
   ],
   "metadata": {
    "collapsed": false,
    "ExecuteTime": {
     "end_time": "2023-11-22T01:40:36.334966462Z",
     "start_time": "2023-11-22T01:40:36.329407457Z"
    }
   },
   "id": "cf9eeed2e781c135"
  },
  {
   "cell_type": "markdown",
   "source": [
    "Метрики: 2 ранжирующие (MAP, NDCG), 2 классификационные (precision, recall), 2 beyond-accuracy (novelty, serendipity). Считаем по порогам 1, 5, 10. MAP обязательно"
   ],
   "metadata": {
    "collapsed": false
   },
   "id": "2fcbf41e57fd342c"
  },
  {
   "cell_type": "code",
   "execution_count": 5,
   "outputs": [],
   "source": [
    "metrics = {\n",
    "    \"MAP@1\": MAP(k=1),\n",
    "    \"MAP@5\": MAP(k=5),\n",
    "    \"MAP@10\": MAP(k=10),\n",
    "    \"NDCG@1\": NDCG(k=1),\n",
    "    \"NDCG@5\": NDCG(k=5),\n",
    "    \"NDCG@10\": NDCG(k=10),\n",
    "    \"precision@1\": Precision(k=1),\n",
    "    \"precision@5\": Precision(k=5),\n",
    "    \"precision@10\": Precision(k=10),\n",
    "    \"recall@1\": Recall(k=1),\n",
    "    \"recall@5\": Recall(k=5),\n",
    "    \"recall@10\": Recall(k=10),\n",
    "    \"novelty@1\": MeanInvUserFreq(k=1),\n",
    "    \"novelty@5\": MeanInvUserFreq(k=5),\n",
    "    \"novelty@10\": MeanInvUserFreq(k=10),\n",
    "    \"serendipity@1\": Serendipity(k=1),\n",
    "    \"serendipity@5\": Serendipity(k=5),\n",
    "    \"serendipity@10\": Serendipity(k=10),\n",
    "}"
   ],
   "metadata": {
    "collapsed": false,
    "ExecuteTime": {
     "end_time": "2023-11-22T01:40:37.721207686Z",
     "start_time": "2023-11-22T01:40:37.718987306Z"
    }
   },
   "id": "e1f0b994b5d5fde7"
  },
  {
   "cell_type": "markdown",
   "source": [
    "Сплиттер: `rectools.model_selection.TimeRangeSplitter`, 3 фолда для кросс-валидации по неделе, исключение холодных юзеров и айтемов и просмотренных айтемов"
   ],
   "metadata": {
    "collapsed": false
   },
   "id": "2cd474ced71a4e85"
  },
  {
   "cell_type": "code",
   "execution_count": 6,
   "outputs": [],
   "source": [
    "cv = TimeRangeSplitter(\n",
    "    test_size=\"7D\",  # по неделе\n",
    "    n_splits=3,  # 3 фолда для кросс-валидации\n",
    "    filter_already_seen=True,  # исключение просмотренных айтемов\n",
    "    filter_cold_items=True,  # исключение холодных айтемов \n",
    "    filter_cold_users=True,  #  исключение холодных юзеров\n",
    ")"
   ],
   "metadata": {
    "collapsed": false,
    "ExecuteTime": {
     "end_time": "2023-11-22T01:40:38.632418628Z",
     "start_time": "2023-11-22T01:40:38.628246838Z"
    }
   },
   "id": "2bcbbd35f2cef845"
  },
  {
   "cell_type": "markdown",
   "source": [
    "Визуализация рекомендаций и историй просмотров для юзеров `[666262, 672861, 955527]`. Для айтемов обязательно отражаем названия, жанры и количество просмотров в датасете (как для айтемов из истории взаимодействий каждого юзера, так и для айтемов из его рекомендаций)"
   ],
   "metadata": {
    "collapsed": false
   },
   "id": "89e1bde64693bead"
  },
  {
   "cell_type": "code",
   "execution_count": 7,
   "outputs": [],
   "source": [
    "USERS = [666262, 672861, 955527]\n",
    "K_RECOS = 10"
   ],
   "metadata": {
    "collapsed": false,
    "ExecuteTime": {
     "end_time": "2023-11-22T01:40:40.953441695Z",
     "start_time": "2023-11-22T01:40:40.948197005Z"
    }
   },
   "id": "88939c853a6a9b68"
  },
  {
   "cell_type": "code",
   "execution_count": 10,
   "outputs": [
    {
     "data": {
      "text/plain": "  0%|          | 0/3 [00:00<?, ?it/s]",
      "application/vnd.jupyter.widget-view+json": {
       "version_major": 2,
       "version_minor": 0,
       "model_id": "95f59355d04d454ca7d1b02c5db2af02"
      }
     },
     "metadata": {},
     "output_type": "display_data"
    },
    {
     "name": "stdout",
     "output_type": "stream",
     "text": [
      "===== Model: random | Fold: 0 =====\n",
      "Fit time: 0.0 sec.\n",
      "Recommend time: 5.19 sec.\n",
      "Metrics time: 1.85 sec.\n",
      "===== Model: popular | Fold: 0 =====\n",
      "Fit time: 1.19 sec.\n",
      "Recommend time: 3.48 sec.\n",
      "Metrics time: 1.96 sec.\n",
      "===== Model: random | Fold: 1 =====\n",
      "Fit time: 0.0 sec.\n",
      "Recommend time: 6.16 sec.\n",
      "Metrics time: 2.15 sec.\n",
      "===== Model: popular | Fold: 1 =====\n",
      "Fit time: 1.2 sec.\n",
      "Recommend time: 4.03 sec.\n",
      "Metrics time: 2.15 sec.\n",
      "===== Model: random | Fold: 2 =====\n",
      "Fit time: 0.0 sec.\n",
      "Recommend time: 5.78 sec.\n",
      "Metrics time: 2.17 sec.\n",
      "===== Model: popular | Fold: 2 =====\n",
      "Fit time: 1.37 sec.\n",
      "Recommend time: 4.37 sec.\n",
      "Metrics time: 2.45 sec.\n"
     ]
    },
    {
     "data": {
      "text/plain": "         precision@1  recall@1  precision@5  recall@5  precision@10  \\\nmodel                                                                 \npopular     0.076432  0.042720     0.052402  0.137413      0.033903   \nrandom      0.000221  0.000072     0.000202  0.000365      0.000193   \n\n         recall@10    NDCG@1    NDCG@5   NDCG@10     MAP@1     MAP@5  \\\nmodel                                                                  \npopular   0.173492  0.076432  0.057932  0.043084  0.042720  0.078295   \nrandom    0.000693  0.000221  0.000208  0.000200  0.000072  0.000169   \n\n           MAP@10  novelty@1  novelty@5  novelty@10  serendipity@1  \\\nmodel                                                                \npopular  0.084109   2.377055   3.066979    3.713390       0.000002   \nrandom   0.000211  15.614137  15.612989   15.613009       0.000006   \n\n         serendipity@5  serendipity@10  \nmodel                                   \npopular       0.000003        0.000002  \nrandom        0.000007        0.000007  ",
      "text/html": "<div>\n<style scoped>\n    .dataframe tbody tr th:only-of-type {\n        vertical-align: middle;\n    }\n\n    .dataframe tbody tr th {\n        vertical-align: top;\n    }\n\n    .dataframe thead th {\n        text-align: right;\n    }\n</style>\n<table border=\"1\" class=\"dataframe\">\n  <thead>\n    <tr style=\"text-align: right;\">\n      <th></th>\n      <th>precision@1</th>\n      <th>recall@1</th>\n      <th>precision@5</th>\n      <th>recall@5</th>\n      <th>precision@10</th>\n      <th>recall@10</th>\n      <th>NDCG@1</th>\n      <th>NDCG@5</th>\n      <th>NDCG@10</th>\n      <th>MAP@1</th>\n      <th>MAP@5</th>\n      <th>MAP@10</th>\n      <th>novelty@1</th>\n      <th>novelty@5</th>\n      <th>novelty@10</th>\n      <th>serendipity@1</th>\n      <th>serendipity@5</th>\n      <th>serendipity@10</th>\n    </tr>\n    <tr>\n      <th>model</th>\n      <th></th>\n      <th></th>\n      <th></th>\n      <th></th>\n      <th></th>\n      <th></th>\n      <th></th>\n      <th></th>\n      <th></th>\n      <th></th>\n      <th></th>\n      <th></th>\n      <th></th>\n      <th></th>\n      <th></th>\n      <th></th>\n      <th></th>\n      <th></th>\n    </tr>\n  </thead>\n  <tbody>\n    <tr>\n      <th>popular</th>\n      <td>0.076432</td>\n      <td>0.042720</td>\n      <td>0.052402</td>\n      <td>0.137413</td>\n      <td>0.033903</td>\n      <td>0.173492</td>\n      <td>0.076432</td>\n      <td>0.057932</td>\n      <td>0.043084</td>\n      <td>0.042720</td>\n      <td>0.078295</td>\n      <td>0.084109</td>\n      <td>2.377055</td>\n      <td>3.066979</td>\n      <td>3.713390</td>\n      <td>0.000002</td>\n      <td>0.000003</td>\n      <td>0.000002</td>\n    </tr>\n    <tr>\n      <th>random</th>\n      <td>0.000221</td>\n      <td>0.000072</td>\n      <td>0.000202</td>\n      <td>0.000365</td>\n      <td>0.000193</td>\n      <td>0.000693</td>\n      <td>0.000221</td>\n      <td>0.000208</td>\n      <td>0.000200</td>\n      <td>0.000072</td>\n      <td>0.000169</td>\n      <td>0.000211</td>\n      <td>15.614137</td>\n      <td>15.612989</td>\n      <td>15.613009</td>\n      <td>0.000006</td>\n      <td>0.000007</td>\n      <td>0.000007</td>\n    </tr>\n  </tbody>\n</table>\n</div>"
     },
     "execution_count": 10,
     "metadata": {},
     "output_type": "execute_result"
    }
   ],
   "source": [
    "calculate_metrics(models,\n",
    "                  metrics,\n",
    "                  cv,\n",
    "                  K_RECOS)"
   ],
   "metadata": {
    "collapsed": false,
    "ExecuteTime": {
     "end_time": "2023-11-22T01:44:06.456140524Z",
     "start_time": "2023-11-22T01:43:18.236981260Z"
    }
   },
   "id": "933a2328d4946fe8"
  },
  {
   "cell_type": "code",
   "execution_count": 45,
   "outputs": [
    {
     "data": {
      "text/plain": "         user_id  item_id   datetime  weight  watched_pct\n0         176549     9506 2021-05-11    4250         72.0\n1         699317     1659 2021-05-29    8317        100.0\n2         656683     7107 2021-05-09      10          0.0\n3         864613     7638 2021-07-05   14483        100.0\n4         964868     9506 2021-04-30    6725        100.0\n...          ...      ...        ...     ...          ...\n5476246   648596    12225 2021-08-13      76          0.0\n5476247   546862     9673 2021-04-13    2308         49.0\n5476248   697262    15297 2021-08-20   18307         63.0\n5476249   384202    16197 2021-04-19    6203        100.0\n5476250   319709     4436 2021-08-15    3921         45.0\n\n[5476251 rows x 5 columns]",
      "text/html": "<div>\n<style scoped>\n    .dataframe tbody tr th:only-of-type {\n        vertical-align: middle;\n    }\n\n    .dataframe tbody tr th {\n        vertical-align: top;\n    }\n\n    .dataframe thead th {\n        text-align: right;\n    }\n</style>\n<table border=\"1\" class=\"dataframe\">\n  <thead>\n    <tr style=\"text-align: right;\">\n      <th></th>\n      <th>user_id</th>\n      <th>item_id</th>\n      <th>datetime</th>\n      <th>weight</th>\n      <th>watched_pct</th>\n    </tr>\n  </thead>\n  <tbody>\n    <tr>\n      <th>0</th>\n      <td>176549</td>\n      <td>9506</td>\n      <td>2021-05-11</td>\n      <td>4250</td>\n      <td>72.0</td>\n    </tr>\n    <tr>\n      <th>1</th>\n      <td>699317</td>\n      <td>1659</td>\n      <td>2021-05-29</td>\n      <td>8317</td>\n      <td>100.0</td>\n    </tr>\n    <tr>\n      <th>2</th>\n      <td>656683</td>\n      <td>7107</td>\n      <td>2021-05-09</td>\n      <td>10</td>\n      <td>0.0</td>\n    </tr>\n    <tr>\n      <th>3</th>\n      <td>864613</td>\n      <td>7638</td>\n      <td>2021-07-05</td>\n      <td>14483</td>\n      <td>100.0</td>\n    </tr>\n    <tr>\n      <th>4</th>\n      <td>964868</td>\n      <td>9506</td>\n      <td>2021-04-30</td>\n      <td>6725</td>\n      <td>100.0</td>\n    </tr>\n    <tr>\n      <th>...</th>\n      <td>...</td>\n      <td>...</td>\n      <td>...</td>\n      <td>...</td>\n      <td>...</td>\n    </tr>\n    <tr>\n      <th>5476246</th>\n      <td>648596</td>\n      <td>12225</td>\n      <td>2021-08-13</td>\n      <td>76</td>\n      <td>0.0</td>\n    </tr>\n    <tr>\n      <th>5476247</th>\n      <td>546862</td>\n      <td>9673</td>\n      <td>2021-04-13</td>\n      <td>2308</td>\n      <td>49.0</td>\n    </tr>\n    <tr>\n      <th>5476248</th>\n      <td>697262</td>\n      <td>15297</td>\n      <td>2021-08-20</td>\n      <td>18307</td>\n      <td>63.0</td>\n    </tr>\n    <tr>\n      <th>5476249</th>\n      <td>384202</td>\n      <td>16197</td>\n      <td>2021-04-19</td>\n      <td>6203</td>\n      <td>100.0</td>\n    </tr>\n    <tr>\n      <th>5476250</th>\n      <td>319709</td>\n      <td>4436</td>\n      <td>2021-08-15</td>\n      <td>3921</td>\n      <td>45.0</td>\n    </tr>\n  </tbody>\n</table>\n<p>5476251 rows × 5 columns</p>\n</div>"
     },
     "execution_count": 45,
     "metadata": {},
     "output_type": "execute_result"
    }
   ],
   "source": [
    "# def visualize(model: ModelBase,\n",
    "#               dataset: List[Interactions, pd.DataFrame],\n",
    "#               # Interactions, Users, Items\n",
    "#               user_list: List[int],\n",
    "#               item_data: pd.DataFrame) -> None:\n",
    "#     pass"
   ],
   "metadata": {
    "collapsed": false,
    "ExecuteTime": {
     "end_time": "2023-11-22T01:07:32.800691933Z",
     "start_time": "2023-11-22T01:07:32.789501655Z"
    }
   },
   "id": "d0d76282aca88f55"
  }
 ],
 "metadata": {
  "kernelspec": {
   "display_name": "Python 3",
   "language": "python",
   "name": "python3"
  },
  "language_info": {
   "codemirror_mode": {
    "name": "ipython",
    "version": 2
   },
   "file_extension": ".py",
   "mimetype": "text/x-python",
   "name": "python",
   "nbconvert_exporter": "python",
   "pygments_lexer": "ipython2",
   "version": "2.7.6"
  }
 },
 "nbformat": 4,
 "nbformat_minor": 5
}
