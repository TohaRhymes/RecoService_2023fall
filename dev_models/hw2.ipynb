{
 "cells": [
  {
   "cell_type": "code",
   "execution_count": 1,
   "id": "initial_id",
   "metadata": {
    "ExecuteTime": {
     "end_time": "2023-11-22T12:46:01.585229619Z",
     "start_time": "2023-11-22T12:46:00.173968744Z"
    }
   },
   "outputs": [],
   "source": [
    "import os\n",
    "from copy import deepcopy\n",
    "\n",
    "from rectools.dataset import Dataset\n",
    "from rectools.model_selection import TimeRangeSplitter\n",
    "from rectools.models import PopularModel, RandomModel\n",
    "from rectools.metrics import MAP, NDCG, Precision, Recall, MeanInvUserFreq, Serendipity\n",
    "\n",
    "from dev_eval import calculate_metrics, read_kion_dataset, visualize\n",
    "\n",
    "DATA_DIR = '../data'\n",
    "KION_DIR = os.path.join(DATA_DIR, 'data_original')\n",
    "INTERACTIONS_DATA = os.path.join(KION_DIR, 'interactions.csv')\n",
    "USERS_DATA = os.path.join(KION_DIR, 'users.csv')\n",
    "ITEMS_DATA = os.path.join(KION_DIR, 'items.csv')"
   ]
  },
  {
   "cell_type": "markdown",
   "id": "e1770154f8fff68e",
   "metadata": {
    "collapsed": false
   },
   "source": [
    "# Data\n",
    "\n",
    "Подгружаем датасет кион используя дополнительную функцию"
   ]
  },
  {
   "cell_type": "code",
   "execution_count": 2,
   "id": "d47c6f292beddd7f",
   "metadata": {
    "collapsed": false,
    "ExecuteTime": {
     "end_time": "2023-11-22T12:46:03.624713382Z",
     "start_time": "2023-11-22T12:46:01.627933568Z"
    }
   },
   "outputs": [],
   "source": [
    "INTERACTIONS, USERS, ITEMS = read_kion_dataset()"
   ]
  },
  {
   "cell_type": "markdown",
   "id": "22d419636f6030d8",
   "metadata": {
    "collapsed": false
   },
   "source": [
    "# Параметры тестирования функций"
   ]
  },
  {
   "cell_type": "markdown",
   "id": "fcc985b5b3a12734",
   "metadata": {
    "collapsed": false
   },
   "source": [
    "Модели: `rectools.models.RandomModel(random_state=32)`, `rectools.models.PopularModel()` с параметрами по умолчанию"
   ]
  },
  {
   "cell_type": "code",
   "execution_count": 3,
   "id": "cf9eeed2e781c135",
   "metadata": {
    "collapsed": false,
    "ExecuteTime": {
     "end_time": "2023-11-22T12:46:03.630999343Z",
     "start_time": "2023-11-22T12:46:03.626613237Z"
    }
   },
   "outputs": [],
   "source": [
    "models = {\n",
    "    \"random\": RandomModel(random_state=32),\n",
    "    \"popular\": PopularModel(),\n",
    "}"
   ]
  },
  {
   "cell_type": "markdown",
   "id": "2fcbf41e57fd342c",
   "metadata": {
    "collapsed": false
   },
   "source": [
    "Метрики: 2 ранжирующие (MAP, NDCG), 2 классификационные (precision, recall), 2 beyond-accuracy (novelty, serendipity). Считаем по порогам 1, 5, 10. MAP обязательно"
   ]
  },
  {
   "cell_type": "code",
   "execution_count": 4,
   "id": "e1f0b994b5d5fde7",
   "metadata": {
    "collapsed": false,
    "ExecuteTime": {
     "end_time": "2023-11-22T12:46:03.639282449Z",
     "start_time": "2023-11-22T12:46:03.629863067Z"
    }
   },
   "outputs": [],
   "source": [
    "metrics = {\n",
    "    \"MAP@1\": MAP(k=1),\n",
    "    \"MAP@5\": MAP(k=5),\n",
    "    \"MAP@10\": MAP(k=10),\n",
    "    \"NDCG@1\": NDCG(k=1),\n",
    "    \"NDCG@5\": NDCG(k=5),\n",
    "    \"NDCG@10\": NDCG(k=10),\n",
    "    \"precision@1\": Precision(k=1),\n",
    "    \"precision@5\": Precision(k=5),\n",
    "    \"precision@10\": Precision(k=10),\n",
    "    \"recall@1\": Recall(k=1),\n",
    "    \"recall@5\": Recall(k=5),\n",
    "    \"recall@10\": Recall(k=10),\n",
    "    \"novelty@1\": MeanInvUserFreq(k=1),\n",
    "    \"novelty@5\": MeanInvUserFreq(k=5),\n",
    "    \"novelty@10\": MeanInvUserFreq(k=10),\n",
    "    \"serendipity@1\": Serendipity(k=1),\n",
    "    \"serendipity@5\": Serendipity(k=5),\n",
    "    \"serendipity@10\": Serendipity(k=10),\n",
    "}"
   ]
  },
  {
   "cell_type": "markdown",
   "id": "2cd474ced71a4e85",
   "metadata": {
    "collapsed": false
   },
   "source": [
    "Сплиттер: `rectools.model_selection.TimeRangeSplitter`, 3 фолда для кросс-валидации по неделе, исключение холодных юзеров и айтемов и просмотренных айтемов"
   ]
  },
  {
   "cell_type": "code",
   "execution_count": 5,
   "id": "2bcbbd35f2cef845",
   "metadata": {
    "collapsed": false,
    "ExecuteTime": {
     "end_time": "2023-11-22T12:46:03.645766519Z",
     "start_time": "2023-11-22T12:46:03.640188374Z"
    }
   },
   "outputs": [],
   "source": [
    "cv = TimeRangeSplitter(\n",
    "    test_size=\"7D\",  # по неделе\n",
    "    n_splits=3,  # 3 фолда для кросс-валидации\n",
    "    filter_already_seen=True,  # исключение просмотренных айтемов\n",
    "    filter_cold_items=True,  # исключение холодных айтемов \n",
    "    filter_cold_users=True,  #  исключение холодных юзеров\n",
    ")"
   ]
  },
  {
   "cell_type": "markdown",
   "id": "89e1bde64693bead",
   "metadata": {
    "collapsed": false
   },
   "source": [
    "Визуализация рекомендаций и историй просмотров для юзеров `[666262, 672861, 955527]`. Для айтемов обязательно отражаем названия, жанры и количество просмотров в датасете (как для айтемов из истории взаимодействий каждого юзера, так и для айтемов из его рекомендаций)"
   ]
  },
  {
   "cell_type": "code",
   "execution_count": 6,
   "id": "88939c853a6a9b68",
   "metadata": {
    "collapsed": false,
    "ExecuteTime": {
     "end_time": "2023-11-22T12:46:03.654769183Z",
     "start_time": "2023-11-22T12:46:03.645050169Z"
    }
   },
   "outputs": [],
   "source": [
    "USERS_CHECK = [666262, 672861, 955527]\n",
    "K_RECOS = 10"
   ]
  },
  {
   "cell_type": "markdown",
   "source": [
    "# Функция 1: метрики "
   ],
   "metadata": {
    "collapsed": false
   },
   "id": "d17fbcfba3ef8dd0"
  },
  {
   "cell_type": "code",
   "execution_count": 7,
   "outputs": [
    {
     "data": {
      "text/plain": "  0%|          | 0/3 [00:00<?, ?it/s]",
      "application/vnd.jupyter.widget-view+json": {
       "version_major": 2,
       "version_minor": 0,
       "model_id": "7ecf5ca7d740415aa55a5056bec523e9"
      }
     },
     "metadata": {},
     "output_type": "display_data"
    },
    {
     "name": "stdout",
     "output_type": "stream",
     "text": [
      "=======================================================|| Model: random | Fold: 0=======================================================\n",
      "Fit time: 0.0 sec.\n",
      "Recommend time: 5.1 sec.\n",
      "Metrics time: 2.01 sec.\n",
      "=======================================================|| Model: popular | Fold: 0=======================================================\n",
      "Fit time: 1.12 sec.\n",
      "Recommend time: 3.28 sec.\n",
      "Metrics time: 1.85 sec.\n",
      "=======================================================|| Model: random | Fold: 1=======================================================\n",
      "Fit time: 0.0 sec.\n",
      "Recommend time: 5.34 sec.\n",
      "Metrics time: 2.06 sec.\n",
      "=======================================================|| Model: popular | Fold: 1=======================================================\n",
      "Fit time: 1.28 sec.\n",
      "Recommend time: 3.5 sec.\n",
      "Metrics time: 2.03 sec.\n",
      "=======================================================|| Model: random | Fold: 2=======================================================\n",
      "Fit time: 0.0 sec.\n",
      "Recommend time: 5.66 sec.\n",
      "Metrics time: 2.2 sec.\n",
      "=======================================================|| Model: popular | Fold: 2=======================================================\n",
      "Fit time: 1.33 sec.\n",
      "Recommend time: 3.69 sec.\n",
      "Metrics time: 2.21 sec.\n"
     ]
    },
    {
     "data": {
      "text/plain": "        precision@1            recall@1           precision@5            \\\n               mean       std      mean       std        mean       std   \nmodel                                                                     \npopular    0.076432  0.006826  0.042720  0.004366    0.052402  0.001618   \nrandom     0.000221  0.000033  0.000072  0.000019    0.000202  0.000028   \n\n         recall@5           precision@10            ...  novelty@5            \\\n             mean       std         mean       std  ...       mean       std   \nmodel                                               ...                        \npopular  0.137413  0.005346     0.033903  0.001443  ...   3.066979  0.012316   \nrandom   0.000365  0.000084     0.000193  0.000019  ...  15.612989  0.019570   \n\n        novelty@10           serendipity@1               serendipity@5  \\\n              mean       std          mean           std          mean   \nmodel                                                                    \npopular   3.713390  0.002076      0.000002  3.733454e-08      0.000003   \nrandom   15.613009  0.019786      0.000006  2.109823e-06      0.000007   \n\n                      serendipity@10                \n                  std           mean           std  \nmodel                                               \npopular  1.262334e-07       0.000002  8.147679e-08  \nrandom   5.111606e-07       0.000007  2.550754e-07  \n\n[2 rows x 36 columns]",
      "text/html": "<div>\n<style scoped>\n    .dataframe tbody tr th:only-of-type {\n        vertical-align: middle;\n    }\n\n    .dataframe tbody tr th {\n        vertical-align: top;\n    }\n\n    .dataframe thead tr th {\n        text-align: left;\n    }\n\n    .dataframe thead tr:last-of-type th {\n        text-align: right;\n    }\n</style>\n<table border=\"1\" class=\"dataframe\">\n  <thead>\n    <tr>\n      <th></th>\n      <th colspan=\"2\" halign=\"left\">precision@1</th>\n      <th colspan=\"2\" halign=\"left\">recall@1</th>\n      <th colspan=\"2\" halign=\"left\">precision@5</th>\n      <th colspan=\"2\" halign=\"left\">recall@5</th>\n      <th colspan=\"2\" halign=\"left\">precision@10</th>\n      <th>...</th>\n      <th colspan=\"2\" halign=\"left\">novelty@5</th>\n      <th colspan=\"2\" halign=\"left\">novelty@10</th>\n      <th colspan=\"2\" halign=\"left\">serendipity@1</th>\n      <th colspan=\"2\" halign=\"left\">serendipity@5</th>\n      <th colspan=\"2\" halign=\"left\">serendipity@10</th>\n    </tr>\n    <tr>\n      <th></th>\n      <th>mean</th>\n      <th>std</th>\n      <th>mean</th>\n      <th>std</th>\n      <th>mean</th>\n      <th>std</th>\n      <th>mean</th>\n      <th>std</th>\n      <th>mean</th>\n      <th>std</th>\n      <th>...</th>\n      <th>mean</th>\n      <th>std</th>\n      <th>mean</th>\n      <th>std</th>\n      <th>mean</th>\n      <th>std</th>\n      <th>mean</th>\n      <th>std</th>\n      <th>mean</th>\n      <th>std</th>\n    </tr>\n    <tr>\n      <th>model</th>\n      <th></th>\n      <th></th>\n      <th></th>\n      <th></th>\n      <th></th>\n      <th></th>\n      <th></th>\n      <th></th>\n      <th></th>\n      <th></th>\n      <th></th>\n      <th></th>\n      <th></th>\n      <th></th>\n      <th></th>\n      <th></th>\n      <th></th>\n      <th></th>\n      <th></th>\n      <th></th>\n      <th></th>\n    </tr>\n  </thead>\n  <tbody>\n    <tr>\n      <th>popular</th>\n      <td>0.076432</td>\n      <td>0.006826</td>\n      <td>0.042720</td>\n      <td>0.004366</td>\n      <td>0.052402</td>\n      <td>0.001618</td>\n      <td>0.137413</td>\n      <td>0.005346</td>\n      <td>0.033903</td>\n      <td>0.001443</td>\n      <td>...</td>\n      <td>3.066979</td>\n      <td>0.012316</td>\n      <td>3.713390</td>\n      <td>0.002076</td>\n      <td>0.000002</td>\n      <td>3.733454e-08</td>\n      <td>0.000003</td>\n      <td>1.262334e-07</td>\n      <td>0.000002</td>\n      <td>8.147679e-08</td>\n    </tr>\n    <tr>\n      <th>random</th>\n      <td>0.000221</td>\n      <td>0.000033</td>\n      <td>0.000072</td>\n      <td>0.000019</td>\n      <td>0.000202</td>\n      <td>0.000028</td>\n      <td>0.000365</td>\n      <td>0.000084</td>\n      <td>0.000193</td>\n      <td>0.000019</td>\n      <td>...</td>\n      <td>15.612989</td>\n      <td>0.019570</td>\n      <td>15.613009</td>\n      <td>0.019786</td>\n      <td>0.000006</td>\n      <td>2.109823e-06</td>\n      <td>0.000007</td>\n      <td>5.111606e-07</td>\n      <td>0.000007</td>\n      <td>2.550754e-07</td>\n    </tr>\n  </tbody>\n</table>\n<p>2 rows × 36 columns</p>\n</div>"
     },
     "execution_count": 7,
     "metadata": {},
     "output_type": "execute_result"
    }
   ],
   "source": [
    "result_data = calculate_metrics(models,\n",
    "                                metrics,\n",
    "                                cv,\n",
    "                                K_RECOS)\n",
    "result_data"
   ],
   "metadata": {
    "collapsed": false,
    "ExecuteTime": {
     "end_time": "2023-11-22T12:46:51.877419657Z",
     "start_time": "2023-11-22T12:46:03.687265930Z"
    }
   },
   "id": "78ca7447fc4b12c2"
  },
  {
   "cell_type": "markdown",
   "source": [
    "# Функция 2: визуализация"
   ],
   "metadata": {
    "collapsed": false
   },
   "id": "2bc6d15d8895b46d"
  },
  {
   "cell_type": "code",
   "execution_count": 8,
   "id": "d0d76282aca88f55",
   "metadata": {
    "collapsed": false,
    "ExecuteTime": {
     "end_time": "2023-11-22T12:46:51.885129319Z",
     "start_time": "2023-11-22T12:46:51.879338682Z"
    }
   },
   "outputs": [],
   "source": [
    "dataset = (INTERACTIONS, USERS, ITEMS)\n",
    "user_list = USERS_CHECK\n",
    "item_data = ['title', 'genres']\n",
    "K_RECOS = 10"
   ]
  },
  {
   "cell_type": "code",
   "execution_count": 9,
   "id": "ec07e7e727ffc50f",
   "metadata": {
    "collapsed": false,
    "ExecuteTime": {
     "end_time": "2023-11-22T12:46:56.486484185Z",
     "start_time": "2023-11-22T12:46:51.883921807Z"
    }
   },
   "outputs": [
    {
     "name": "stdout",
     "output_type": "stream",
     "text": [
      "===random===\n",
      "Visual report\n",
      "----------------------------------------------------------\n",
      "User: 666262\n",
      "Already watched films amount: 3\n"
     ]
    },
    {
     "data": {
      "text/plain": "   item_id   datetime   weight  watched_pct              title  \\\n0     7957 2021-05-12   2052.0         32.0   Последний викинг   \n1     4785 2021-05-12   1946.0         28.0  Робин Гуд: Начало   \n2    12981 2021-05-14  10292.0        100.0            Томирис   \n\n                                  genres  views  \n0     боевики, историческое, приключения    746  \n1         боевики, триллеры, приключения    485  \n2  боевики, драмы, историческое, военные  10370  ",
      "text/html": "<div>\n<style scoped>\n    .dataframe tbody tr th:only-of-type {\n        vertical-align: middle;\n    }\n\n    .dataframe tbody tr th {\n        vertical-align: top;\n    }\n\n    .dataframe thead th {\n        text-align: right;\n    }\n</style>\n<table border=\"1\" class=\"dataframe\">\n  <thead>\n    <tr style=\"text-align: right;\">\n      <th></th>\n      <th>item_id</th>\n      <th>datetime</th>\n      <th>weight</th>\n      <th>watched_pct</th>\n      <th>title</th>\n      <th>genres</th>\n      <th>views</th>\n    </tr>\n  </thead>\n  <tbody>\n    <tr>\n      <th>0</th>\n      <td>7957</td>\n      <td>2021-05-12</td>\n      <td>2052.0</td>\n      <td>32.0</td>\n      <td>Последний викинг</td>\n      <td>боевики, историческое, приключения</td>\n      <td>746</td>\n    </tr>\n    <tr>\n      <th>1</th>\n      <td>4785</td>\n      <td>2021-05-12</td>\n      <td>1946.0</td>\n      <td>28.0</td>\n      <td>Робин Гуд: Начало</td>\n      <td>боевики, триллеры, приключения</td>\n      <td>485</td>\n    </tr>\n    <tr>\n      <th>2</th>\n      <td>12981</td>\n      <td>2021-05-14</td>\n      <td>10292.0</td>\n      <td>100.0</td>\n      <td>Томирис</td>\n      <td>боевики, драмы, историческое, военные</td>\n      <td>10370</td>\n    </tr>\n  </tbody>\n</table>\n</div>"
     },
     "metadata": {},
     "output_type": "display_data"
    },
    {
     "name": "stdout",
     "output_type": "stream",
     "text": [
      "Recomended films amount: 10\n",
      "(Amount of all films: 15706)\n"
     ]
    },
    {
     "data": {
      "text/plain": "   item_id  score  rank                                         title  \\\n0    10101     10     1                           Возвращение Будулая   \n1      619      9     2  Новые приключения Аладдина (жестовым языком)   \n2    12618      8     3                             Пропавшая грамота   \n3     5967      7     4                               Братья вне игры   \n4     4041      6     5                                    Фрилансеры   \n5     5701      5     6                    Алые паруса: Новая история   \n6     9738      4     7                              Женщина в беде 3   \n7    15247      3     8                      Гордость и предубеждение   \n8    10004      2     9                                    Болванчики   \n9     2816      1    10                        Избави нас от лукавого   \n\n                                            genres  views  \n0                                        мелодрамы     99  \n1                              зарубежные, комедии      1  \n2                                 фэнтези, комедии     51  \n3                                     драмы, спорт    262  \n4  криминал, детективы, драмы, зарубежные, боевики     19  \n5                               комедии, мелодрамы      4  \n6                             детективы, мелодрамы      2  \n7                                 драмы, мелодрамы    150  \n8                 мультфильм, приключения, комедии     51  \n9                       ужасы, триллеры, детективы   1370  ",
      "text/html": "<div>\n<style scoped>\n    .dataframe tbody tr th:only-of-type {\n        vertical-align: middle;\n    }\n\n    .dataframe tbody tr th {\n        vertical-align: top;\n    }\n\n    .dataframe thead th {\n        text-align: right;\n    }\n</style>\n<table border=\"1\" class=\"dataframe\">\n  <thead>\n    <tr style=\"text-align: right;\">\n      <th></th>\n      <th>item_id</th>\n      <th>score</th>\n      <th>rank</th>\n      <th>title</th>\n      <th>genres</th>\n      <th>views</th>\n    </tr>\n  </thead>\n  <tbody>\n    <tr>\n      <th>0</th>\n      <td>10101</td>\n      <td>10</td>\n      <td>1</td>\n      <td>Возвращение Будулая</td>\n      <td>мелодрамы</td>\n      <td>99</td>\n    </tr>\n    <tr>\n      <th>1</th>\n      <td>619</td>\n      <td>9</td>\n      <td>2</td>\n      <td>Новые приключения Аладдина (жестовым языком)</td>\n      <td>зарубежные, комедии</td>\n      <td>1</td>\n    </tr>\n    <tr>\n      <th>2</th>\n      <td>12618</td>\n      <td>8</td>\n      <td>3</td>\n      <td>Пропавшая грамота</td>\n      <td>фэнтези, комедии</td>\n      <td>51</td>\n    </tr>\n    <tr>\n      <th>3</th>\n      <td>5967</td>\n      <td>7</td>\n      <td>4</td>\n      <td>Братья вне игры</td>\n      <td>драмы, спорт</td>\n      <td>262</td>\n    </tr>\n    <tr>\n      <th>4</th>\n      <td>4041</td>\n      <td>6</td>\n      <td>5</td>\n      <td>Фрилансеры</td>\n      <td>криминал, детективы, драмы, зарубежные, боевики</td>\n      <td>19</td>\n    </tr>\n    <tr>\n      <th>5</th>\n      <td>5701</td>\n      <td>5</td>\n      <td>6</td>\n      <td>Алые паруса: Новая история</td>\n      <td>комедии, мелодрамы</td>\n      <td>4</td>\n    </tr>\n    <tr>\n      <th>6</th>\n      <td>9738</td>\n      <td>4</td>\n      <td>7</td>\n      <td>Женщина в беде 3</td>\n      <td>детективы, мелодрамы</td>\n      <td>2</td>\n    </tr>\n    <tr>\n      <th>7</th>\n      <td>15247</td>\n      <td>3</td>\n      <td>8</td>\n      <td>Гордость и предубеждение</td>\n      <td>драмы, мелодрамы</td>\n      <td>150</td>\n    </tr>\n    <tr>\n      <th>8</th>\n      <td>10004</td>\n      <td>2</td>\n      <td>9</td>\n      <td>Болванчики</td>\n      <td>мультфильм, приключения, комедии</td>\n      <td>51</td>\n    </tr>\n    <tr>\n      <th>9</th>\n      <td>2816</td>\n      <td>1</td>\n      <td>10</td>\n      <td>Избави нас от лукавого</td>\n      <td>ужасы, триллеры, детективы</td>\n      <td>1370</td>\n    </tr>\n  </tbody>\n</table>\n</div>"
     },
     "metadata": {},
     "output_type": "display_data"
    },
    {
     "name": "stdout",
     "output_type": "stream",
     "text": [
      "----------------------------------------------------------\n",
      "User: 672861\n",
      "Already watched films amount: 2\n"
     ]
    },
    {
     "data": {
      "text/plain": "   item_id   datetime  weight  watched_pct                 title  \\\n0     6870 2021-04-27    10.0          0.0  Красавица и чудовище   \n1     8662 2021-05-04  6354.0        100.0           Он – дракон   \n\n                        genres  views  \n0  драмы, фэнтези, музыкальные   1083  \n1                      фэнтези    643  ",
      "text/html": "<div>\n<style scoped>\n    .dataframe tbody tr th:only-of-type {\n        vertical-align: middle;\n    }\n\n    .dataframe tbody tr th {\n        vertical-align: top;\n    }\n\n    .dataframe thead th {\n        text-align: right;\n    }\n</style>\n<table border=\"1\" class=\"dataframe\">\n  <thead>\n    <tr style=\"text-align: right;\">\n      <th></th>\n      <th>item_id</th>\n      <th>datetime</th>\n      <th>weight</th>\n      <th>watched_pct</th>\n      <th>title</th>\n      <th>genres</th>\n      <th>views</th>\n    </tr>\n  </thead>\n  <tbody>\n    <tr>\n      <th>0</th>\n      <td>6870</td>\n      <td>2021-04-27</td>\n      <td>10.0</td>\n      <td>0.0</td>\n      <td>Красавица и чудовище</td>\n      <td>драмы, фэнтези, музыкальные</td>\n      <td>1083</td>\n    </tr>\n    <tr>\n      <th>1</th>\n      <td>8662</td>\n      <td>2021-05-04</td>\n      <td>6354.0</td>\n      <td>100.0</td>\n      <td>Он – дракон</td>\n      <td>фэнтези</td>\n      <td>643</td>\n    </tr>\n  </tbody>\n</table>\n</div>"
     },
     "metadata": {},
     "output_type": "display_data"
    },
    {
     "name": "stdout",
     "output_type": "stream",
     "text": [
      "Recomended films amount: 10\n",
      "(Amount of all films: 15706)\n"
     ]
    },
    {
     "data": {
      "text/plain": "   item_id  score  rank                       title  \\\n0     9457     10     1   Комната (жестовым языком)   \n1    15730      9     2        Твое подтянутое тело   \n2      473      8     3           Кто такой Букабу?   \n3    12736      7     4                       Палач   \n4     3927      6     5                  Помни меня   \n5     3300      5     6  Антилопа Гну. Южная Африка   \n6     5334      4     7               Boys and Toys   \n7    14273      3     8         Влюбленный скорпион   \n8     3087      2     9              Жуки - караоке   \n9     4416      1    10                       Питер   \n\n                                          genres  views  \n0                    драмы, зарубежные, триллеры      5  \n1                                         фитнес      2  \n2     развлекательные, для детей, документальное     15  \n3                     драмы, зарубежные, комедии      3  \n4                               драмы, мелодрамы   2982  \n5                                 документальное      8  \n6                                       no_genre      3  \n7  драмы, зарубежные, спорт, триллеры, мелодрамы      2  \n8                                       no_genre      1  \n9                           фэнтези, приключения     33  ",
      "text/html": "<div>\n<style scoped>\n    .dataframe tbody tr th:only-of-type {\n        vertical-align: middle;\n    }\n\n    .dataframe tbody tr th {\n        vertical-align: top;\n    }\n\n    .dataframe thead th {\n        text-align: right;\n    }\n</style>\n<table border=\"1\" class=\"dataframe\">\n  <thead>\n    <tr style=\"text-align: right;\">\n      <th></th>\n      <th>item_id</th>\n      <th>score</th>\n      <th>rank</th>\n      <th>title</th>\n      <th>genres</th>\n      <th>views</th>\n    </tr>\n  </thead>\n  <tbody>\n    <tr>\n      <th>0</th>\n      <td>9457</td>\n      <td>10</td>\n      <td>1</td>\n      <td>Комната (жестовым языком)</td>\n      <td>драмы, зарубежные, триллеры</td>\n      <td>5</td>\n    </tr>\n    <tr>\n      <th>1</th>\n      <td>15730</td>\n      <td>9</td>\n      <td>2</td>\n      <td>Твое подтянутое тело</td>\n      <td>фитнес</td>\n      <td>2</td>\n    </tr>\n    <tr>\n      <th>2</th>\n      <td>473</td>\n      <td>8</td>\n      <td>3</td>\n      <td>Кто такой Букабу?</td>\n      <td>развлекательные, для детей, документальное</td>\n      <td>15</td>\n    </tr>\n    <tr>\n      <th>3</th>\n      <td>12736</td>\n      <td>7</td>\n      <td>4</td>\n      <td>Палач</td>\n      <td>драмы, зарубежные, комедии</td>\n      <td>3</td>\n    </tr>\n    <tr>\n      <th>4</th>\n      <td>3927</td>\n      <td>6</td>\n      <td>5</td>\n      <td>Помни меня</td>\n      <td>драмы, мелодрамы</td>\n      <td>2982</td>\n    </tr>\n    <tr>\n      <th>5</th>\n      <td>3300</td>\n      <td>5</td>\n      <td>6</td>\n      <td>Антилопа Гну. Южная Африка</td>\n      <td>документальное</td>\n      <td>8</td>\n    </tr>\n    <tr>\n      <th>6</th>\n      <td>5334</td>\n      <td>4</td>\n      <td>7</td>\n      <td>Boys and Toys</td>\n      <td>no_genre</td>\n      <td>3</td>\n    </tr>\n    <tr>\n      <th>7</th>\n      <td>14273</td>\n      <td>3</td>\n      <td>8</td>\n      <td>Влюбленный скорпион</td>\n      <td>драмы, зарубежные, спорт, триллеры, мелодрамы</td>\n      <td>2</td>\n    </tr>\n    <tr>\n      <th>8</th>\n      <td>3087</td>\n      <td>2</td>\n      <td>9</td>\n      <td>Жуки - караоке</td>\n      <td>no_genre</td>\n      <td>1</td>\n    </tr>\n    <tr>\n      <th>9</th>\n      <td>4416</td>\n      <td>1</td>\n      <td>10</td>\n      <td>Питер</td>\n      <td>фэнтези, приключения</td>\n      <td>33</td>\n    </tr>\n  </tbody>\n</table>\n</div>"
     },
     "metadata": {},
     "output_type": "display_data"
    },
    {
     "name": "stdout",
     "output_type": "stream",
     "text": [
      "----------------------------------------------------------\n",
      "User: 955527\n",
      "Already watched films amount: 4\n"
     ]
    },
    {
     "data": {
      "text/plain": "   item_id   datetime  weight  watched_pct                           title  \\\n0     1183 2021-06-02    40.0          1.0  Стань легендой! Бигфут Младший   \n1    13371 2021-05-04   686.0         11.0          Пеле: Рождение легенды   \n2     4725 2021-06-02   255.0          4.0            Лобановский навсегда   \n3     1238 2021-06-02   556.0          7.0                  Диего Марадона   \n\n                                      genres  views  \n0  мультфильм, фэнтези, приключения, комедии   1587  \n1                    драмы, спорт, биография    945  \n2           спорт, биография, документальное    683  \n3           спорт, биография, документальное    691  ",
      "text/html": "<div>\n<style scoped>\n    .dataframe tbody tr th:only-of-type {\n        vertical-align: middle;\n    }\n\n    .dataframe tbody tr th {\n        vertical-align: top;\n    }\n\n    .dataframe thead th {\n        text-align: right;\n    }\n</style>\n<table border=\"1\" class=\"dataframe\">\n  <thead>\n    <tr style=\"text-align: right;\">\n      <th></th>\n      <th>item_id</th>\n      <th>datetime</th>\n      <th>weight</th>\n      <th>watched_pct</th>\n      <th>title</th>\n      <th>genres</th>\n      <th>views</th>\n    </tr>\n  </thead>\n  <tbody>\n    <tr>\n      <th>0</th>\n      <td>1183</td>\n      <td>2021-06-02</td>\n      <td>40.0</td>\n      <td>1.0</td>\n      <td>Стань легендой! Бигфут Младший</td>\n      <td>мультфильм, фэнтези, приключения, комедии</td>\n      <td>1587</td>\n    </tr>\n    <tr>\n      <th>1</th>\n      <td>13371</td>\n      <td>2021-05-04</td>\n      <td>686.0</td>\n      <td>11.0</td>\n      <td>Пеле: Рождение легенды</td>\n      <td>драмы, спорт, биография</td>\n      <td>945</td>\n    </tr>\n    <tr>\n      <th>2</th>\n      <td>4725</td>\n      <td>2021-06-02</td>\n      <td>255.0</td>\n      <td>4.0</td>\n      <td>Лобановский навсегда</td>\n      <td>спорт, биография, документальное</td>\n      <td>683</td>\n    </tr>\n    <tr>\n      <th>3</th>\n      <td>1238</td>\n      <td>2021-06-02</td>\n      <td>556.0</td>\n      <td>7.0</td>\n      <td>Диего Марадона</td>\n      <td>спорт, биография, документальное</td>\n      <td>691</td>\n    </tr>\n  </tbody>\n</table>\n</div>"
     },
     "metadata": {},
     "output_type": "display_data"
    },
    {
     "name": "stdout",
     "output_type": "stream",
     "text": [
      "Recomended films amount: 10\n",
      "(Amount of all films: 15706)\n"
     ]
    },
    {
     "data": {
      "text/plain": "   item_id  score  rank                                         title  \\\n0      496     10     1                           Воскресший Эртугрул   \n1     4205      9     2          Дело гастронома №1 (Операция Беркут)   \n2    10822      8     3                           Она защищает Родину   \n3    10914      7     4                                  Великолепная   \n4     3999      6     5                               Джиперс криперс   \n5    15756      5     6  Ремнант: Всё ещё вижу тебя (жестовым языком)   \n6    14961      4     7                                Битва за Землю   \n7    13734      3     8                 Сексуальный массаж и Фантазии   \n8     3407      2     9                                Черный капитан   \n9    14614      1    10                                         Настя   \n\n                                 genres  views  \n0           боевики, драмы, приключения   6167  \n1                        драмы, русские      1  \n2             драмы, советские, военные      2  \n3        зарубежные, комедии, мелодрамы      3  \n4                       ужасы, триллеры    648  \n5      фантастика, зарубежные, триллеры      2  \n6  боевики, ужасы, фантастика, триллеры   2032  \n7                          для взрослых     31  \n8             боевики, русские, военные      1  \n9                    мелодрамы, комедии      2  ",
      "text/html": "<div>\n<style scoped>\n    .dataframe tbody tr th:only-of-type {\n        vertical-align: middle;\n    }\n\n    .dataframe tbody tr th {\n        vertical-align: top;\n    }\n\n    .dataframe thead th {\n        text-align: right;\n    }\n</style>\n<table border=\"1\" class=\"dataframe\">\n  <thead>\n    <tr style=\"text-align: right;\">\n      <th></th>\n      <th>item_id</th>\n      <th>score</th>\n      <th>rank</th>\n      <th>title</th>\n      <th>genres</th>\n      <th>views</th>\n    </tr>\n  </thead>\n  <tbody>\n    <tr>\n      <th>0</th>\n      <td>496</td>\n      <td>10</td>\n      <td>1</td>\n      <td>Воскресший Эртугрул</td>\n      <td>боевики, драмы, приключения</td>\n      <td>6167</td>\n    </tr>\n    <tr>\n      <th>1</th>\n      <td>4205</td>\n      <td>9</td>\n      <td>2</td>\n      <td>Дело гастронома №1 (Операция Беркут)</td>\n      <td>драмы, русские</td>\n      <td>1</td>\n    </tr>\n    <tr>\n      <th>2</th>\n      <td>10822</td>\n      <td>8</td>\n      <td>3</td>\n      <td>Она защищает Родину</td>\n      <td>драмы, советские, военные</td>\n      <td>2</td>\n    </tr>\n    <tr>\n      <th>3</th>\n      <td>10914</td>\n      <td>7</td>\n      <td>4</td>\n      <td>Великолепная</td>\n      <td>зарубежные, комедии, мелодрамы</td>\n      <td>3</td>\n    </tr>\n    <tr>\n      <th>4</th>\n      <td>3999</td>\n      <td>6</td>\n      <td>5</td>\n      <td>Джиперс криперс</td>\n      <td>ужасы, триллеры</td>\n      <td>648</td>\n    </tr>\n    <tr>\n      <th>5</th>\n      <td>15756</td>\n      <td>5</td>\n      <td>6</td>\n      <td>Ремнант: Всё ещё вижу тебя (жестовым языком)</td>\n      <td>фантастика, зарубежные, триллеры</td>\n      <td>2</td>\n    </tr>\n    <tr>\n      <th>6</th>\n      <td>14961</td>\n      <td>4</td>\n      <td>7</td>\n      <td>Битва за Землю</td>\n      <td>боевики, ужасы, фантастика, триллеры</td>\n      <td>2032</td>\n    </tr>\n    <tr>\n      <th>7</th>\n      <td>13734</td>\n      <td>3</td>\n      <td>8</td>\n      <td>Сексуальный массаж и Фантазии</td>\n      <td>для взрослых</td>\n      <td>31</td>\n    </tr>\n    <tr>\n      <th>8</th>\n      <td>3407</td>\n      <td>2</td>\n      <td>9</td>\n      <td>Черный капитан</td>\n      <td>боевики, русские, военные</td>\n      <td>1</td>\n    </tr>\n    <tr>\n      <th>9</th>\n      <td>14614</td>\n      <td>1</td>\n      <td>10</td>\n      <td>Настя</td>\n      <td>мелодрамы, комедии</td>\n      <td>2</td>\n    </tr>\n  </tbody>\n</table>\n</div>"
     },
     "metadata": {},
     "output_type": "display_data"
    },
    {
     "name": "stdout",
     "output_type": "stream",
     "text": [
      "===popular===\n",
      "Visual report\n",
      "----------------------------------------------------------\n",
      "User: 666262\n",
      "Already watched films amount: 3\n"
     ]
    },
    {
     "data": {
      "text/plain": "   item_id   datetime   weight  watched_pct              title  \\\n0     7957 2021-05-12   2052.0         32.0   Последний викинг   \n1     4785 2021-05-12   1946.0         28.0  Робин Гуд: Начало   \n2    12981 2021-05-14  10292.0        100.0            Томирис   \n\n                                  genres  views  \n0     боевики, историческое, приключения    746  \n1         боевики, триллеры, приключения    485  \n2  боевики, драмы, историческое, военные  10370  ",
      "text/html": "<div>\n<style scoped>\n    .dataframe tbody tr th:only-of-type {\n        vertical-align: middle;\n    }\n\n    .dataframe tbody tr th {\n        vertical-align: top;\n    }\n\n    .dataframe thead th {\n        text-align: right;\n    }\n</style>\n<table border=\"1\" class=\"dataframe\">\n  <thead>\n    <tr style=\"text-align: right;\">\n      <th></th>\n      <th>item_id</th>\n      <th>datetime</th>\n      <th>weight</th>\n      <th>watched_pct</th>\n      <th>title</th>\n      <th>genres</th>\n      <th>views</th>\n    </tr>\n  </thead>\n  <tbody>\n    <tr>\n      <th>0</th>\n      <td>7957</td>\n      <td>2021-05-12</td>\n      <td>2052.0</td>\n      <td>32.0</td>\n      <td>Последний викинг</td>\n      <td>боевики, историческое, приключения</td>\n      <td>746</td>\n    </tr>\n    <tr>\n      <th>1</th>\n      <td>4785</td>\n      <td>2021-05-12</td>\n      <td>1946.0</td>\n      <td>28.0</td>\n      <td>Робин Гуд: Начало</td>\n      <td>боевики, триллеры, приключения</td>\n      <td>485</td>\n    </tr>\n    <tr>\n      <th>2</th>\n      <td>12981</td>\n      <td>2021-05-14</td>\n      <td>10292.0</td>\n      <td>100.0</td>\n      <td>Томирис</td>\n      <td>боевики, драмы, историческое, военные</td>\n      <td>10370</td>\n    </tr>\n  </tbody>\n</table>\n</div>"
     },
     "metadata": {},
     "output_type": "display_data"
    },
    {
     "name": "stdout",
     "output_type": "stream",
     "text": [
      "Recomended films amount: 10\n",
      "(Amount of all films: 15706)\n"
     ]
    },
    {
     "data": {
      "text/plain": "   item_id     score  rank                         title  \\\n0    10440  202457.0     1                   Хрустальный   \n1    15297  193123.0     2               Клиника счастья   \n2     9728  132865.0     3             Гнев человеческий   \n3    13865  122119.0     4                      Девятаев   \n4     4151   91167.0     5        Секреты семейной жизни   \n5     3734   74803.0     6  Прабабушка легкого поведения   \n6     2657   68581.0     7                    Подслушано   \n7     4880   55043.0     8                         Афера   \n8      142   45367.0     9                          Маша   \n9     6809   40372.0    10                         Дуров   \n\n                        genres   views  \n0          триллеры, детективы  202457  \n1             драмы, мелодрамы  193123  \n2            боевики, триллеры  132865  \n3  драмы, военные, приключения  122119  \n4                      комедии   91167  \n5                      комедии   74803  \n6              драмы, триллеры   68581  \n7                      комедии   55043  \n8              драмы, триллеры   45367  \n9               документальное   40372  ",
      "text/html": "<div>\n<style scoped>\n    .dataframe tbody tr th:only-of-type {\n        vertical-align: middle;\n    }\n\n    .dataframe tbody tr th {\n        vertical-align: top;\n    }\n\n    .dataframe thead th {\n        text-align: right;\n    }\n</style>\n<table border=\"1\" class=\"dataframe\">\n  <thead>\n    <tr style=\"text-align: right;\">\n      <th></th>\n      <th>item_id</th>\n      <th>score</th>\n      <th>rank</th>\n      <th>title</th>\n      <th>genres</th>\n      <th>views</th>\n    </tr>\n  </thead>\n  <tbody>\n    <tr>\n      <th>0</th>\n      <td>10440</td>\n      <td>202457.0</td>\n      <td>1</td>\n      <td>Хрустальный</td>\n      <td>триллеры, детективы</td>\n      <td>202457</td>\n    </tr>\n    <tr>\n      <th>1</th>\n      <td>15297</td>\n      <td>193123.0</td>\n      <td>2</td>\n      <td>Клиника счастья</td>\n      <td>драмы, мелодрамы</td>\n      <td>193123</td>\n    </tr>\n    <tr>\n      <th>2</th>\n      <td>9728</td>\n      <td>132865.0</td>\n      <td>3</td>\n      <td>Гнев человеческий</td>\n      <td>боевики, триллеры</td>\n      <td>132865</td>\n    </tr>\n    <tr>\n      <th>3</th>\n      <td>13865</td>\n      <td>122119.0</td>\n      <td>4</td>\n      <td>Девятаев</td>\n      <td>драмы, военные, приключения</td>\n      <td>122119</td>\n    </tr>\n    <tr>\n      <th>4</th>\n      <td>4151</td>\n      <td>91167.0</td>\n      <td>5</td>\n      <td>Секреты семейной жизни</td>\n      <td>комедии</td>\n      <td>91167</td>\n    </tr>\n    <tr>\n      <th>5</th>\n      <td>3734</td>\n      <td>74803.0</td>\n      <td>6</td>\n      <td>Прабабушка легкого поведения</td>\n      <td>комедии</td>\n      <td>74803</td>\n    </tr>\n    <tr>\n      <th>6</th>\n      <td>2657</td>\n      <td>68581.0</td>\n      <td>7</td>\n      <td>Подслушано</td>\n      <td>драмы, триллеры</td>\n      <td>68581</td>\n    </tr>\n    <tr>\n      <th>7</th>\n      <td>4880</td>\n      <td>55043.0</td>\n      <td>8</td>\n      <td>Афера</td>\n      <td>комедии</td>\n      <td>55043</td>\n    </tr>\n    <tr>\n      <th>8</th>\n      <td>142</td>\n      <td>45367.0</td>\n      <td>9</td>\n      <td>Маша</td>\n      <td>драмы, триллеры</td>\n      <td>45367</td>\n    </tr>\n    <tr>\n      <th>9</th>\n      <td>6809</td>\n      <td>40372.0</td>\n      <td>10</td>\n      <td>Дуров</td>\n      <td>документальное</td>\n      <td>40372</td>\n    </tr>\n  </tbody>\n</table>\n</div>"
     },
     "metadata": {},
     "output_type": "display_data"
    },
    {
     "name": "stdout",
     "output_type": "stream",
     "text": [
      "----------------------------------------------------------\n",
      "User: 672861\n",
      "Already watched films amount: 2\n"
     ]
    },
    {
     "data": {
      "text/plain": "   item_id   datetime  weight  watched_pct                 title  \\\n0     6870 2021-04-27    10.0          0.0  Красавица и чудовище   \n1     8662 2021-05-04  6354.0        100.0           Он – дракон   \n\n                        genres  views  \n0  драмы, фэнтези, музыкальные   1083  \n1                      фэнтези    643  ",
      "text/html": "<div>\n<style scoped>\n    .dataframe tbody tr th:only-of-type {\n        vertical-align: middle;\n    }\n\n    .dataframe tbody tr th {\n        vertical-align: top;\n    }\n\n    .dataframe thead th {\n        text-align: right;\n    }\n</style>\n<table border=\"1\" class=\"dataframe\">\n  <thead>\n    <tr style=\"text-align: right;\">\n      <th></th>\n      <th>item_id</th>\n      <th>datetime</th>\n      <th>weight</th>\n      <th>watched_pct</th>\n      <th>title</th>\n      <th>genres</th>\n      <th>views</th>\n    </tr>\n  </thead>\n  <tbody>\n    <tr>\n      <th>0</th>\n      <td>6870</td>\n      <td>2021-04-27</td>\n      <td>10.0</td>\n      <td>0.0</td>\n      <td>Красавица и чудовище</td>\n      <td>драмы, фэнтези, музыкальные</td>\n      <td>1083</td>\n    </tr>\n    <tr>\n      <th>1</th>\n      <td>8662</td>\n      <td>2021-05-04</td>\n      <td>6354.0</td>\n      <td>100.0</td>\n      <td>Он – дракон</td>\n      <td>фэнтези</td>\n      <td>643</td>\n    </tr>\n  </tbody>\n</table>\n</div>"
     },
     "metadata": {},
     "output_type": "display_data"
    },
    {
     "name": "stdout",
     "output_type": "stream",
     "text": [
      "Recomended films amount: 10\n",
      "(Amount of all films: 15706)\n"
     ]
    },
    {
     "data": {
      "text/plain": "   item_id     score  rank                         title  \\\n0    10440  202457.0     1                   Хрустальный   \n1    15297  193123.0     2               Клиника счастья   \n2     9728  132865.0     3             Гнев человеческий   \n3    13865  122119.0     4                      Девятаев   \n4     4151   91167.0     5        Секреты семейной жизни   \n5     3734   74803.0     6  Прабабушка легкого поведения   \n6     2657   68581.0     7                    Подслушано   \n7     4880   55043.0     8                         Афера   \n8      142   45367.0     9                          Маша   \n9     6809   40372.0    10                         Дуров   \n\n                        genres   views  \n0          триллеры, детективы  202457  \n1             драмы, мелодрамы  193123  \n2            боевики, триллеры  132865  \n3  драмы, военные, приключения  122119  \n4                      комедии   91167  \n5                      комедии   74803  \n6              драмы, триллеры   68581  \n7                      комедии   55043  \n8              драмы, триллеры   45367  \n9               документальное   40372  ",
      "text/html": "<div>\n<style scoped>\n    .dataframe tbody tr th:only-of-type {\n        vertical-align: middle;\n    }\n\n    .dataframe tbody tr th {\n        vertical-align: top;\n    }\n\n    .dataframe thead th {\n        text-align: right;\n    }\n</style>\n<table border=\"1\" class=\"dataframe\">\n  <thead>\n    <tr style=\"text-align: right;\">\n      <th></th>\n      <th>item_id</th>\n      <th>score</th>\n      <th>rank</th>\n      <th>title</th>\n      <th>genres</th>\n      <th>views</th>\n    </tr>\n  </thead>\n  <tbody>\n    <tr>\n      <th>0</th>\n      <td>10440</td>\n      <td>202457.0</td>\n      <td>1</td>\n      <td>Хрустальный</td>\n      <td>триллеры, детективы</td>\n      <td>202457</td>\n    </tr>\n    <tr>\n      <th>1</th>\n      <td>15297</td>\n      <td>193123.0</td>\n      <td>2</td>\n      <td>Клиника счастья</td>\n      <td>драмы, мелодрамы</td>\n      <td>193123</td>\n    </tr>\n    <tr>\n      <th>2</th>\n      <td>9728</td>\n      <td>132865.0</td>\n      <td>3</td>\n      <td>Гнев человеческий</td>\n      <td>боевики, триллеры</td>\n      <td>132865</td>\n    </tr>\n    <tr>\n      <th>3</th>\n      <td>13865</td>\n      <td>122119.0</td>\n      <td>4</td>\n      <td>Девятаев</td>\n      <td>драмы, военные, приключения</td>\n      <td>122119</td>\n    </tr>\n    <tr>\n      <th>4</th>\n      <td>4151</td>\n      <td>91167.0</td>\n      <td>5</td>\n      <td>Секреты семейной жизни</td>\n      <td>комедии</td>\n      <td>91167</td>\n    </tr>\n    <tr>\n      <th>5</th>\n      <td>3734</td>\n      <td>74803.0</td>\n      <td>6</td>\n      <td>Прабабушка легкого поведения</td>\n      <td>комедии</td>\n      <td>74803</td>\n    </tr>\n    <tr>\n      <th>6</th>\n      <td>2657</td>\n      <td>68581.0</td>\n      <td>7</td>\n      <td>Подслушано</td>\n      <td>драмы, триллеры</td>\n      <td>68581</td>\n    </tr>\n    <tr>\n      <th>7</th>\n      <td>4880</td>\n      <td>55043.0</td>\n      <td>8</td>\n      <td>Афера</td>\n      <td>комедии</td>\n      <td>55043</td>\n    </tr>\n    <tr>\n      <th>8</th>\n      <td>142</td>\n      <td>45367.0</td>\n      <td>9</td>\n      <td>Маша</td>\n      <td>драмы, триллеры</td>\n      <td>45367</td>\n    </tr>\n    <tr>\n      <th>9</th>\n      <td>6809</td>\n      <td>40372.0</td>\n      <td>10</td>\n      <td>Дуров</td>\n      <td>документальное</td>\n      <td>40372</td>\n    </tr>\n  </tbody>\n</table>\n</div>"
     },
     "metadata": {},
     "output_type": "display_data"
    },
    {
     "name": "stdout",
     "output_type": "stream",
     "text": [
      "----------------------------------------------------------\n",
      "User: 955527\n",
      "Already watched films amount: 4\n"
     ]
    },
    {
     "data": {
      "text/plain": "   item_id   datetime  weight  watched_pct                           title  \\\n0     1183 2021-06-02    40.0          1.0  Стань легендой! Бигфут Младший   \n1    13371 2021-05-04   686.0         11.0          Пеле: Рождение легенды   \n2     4725 2021-06-02   255.0          4.0            Лобановский навсегда   \n3     1238 2021-06-02   556.0          7.0                  Диего Марадона   \n\n                                      genres  views  \n0  мультфильм, фэнтези, приключения, комедии   1587  \n1                    драмы, спорт, биография    945  \n2           спорт, биография, документальное    683  \n3           спорт, биография, документальное    691  ",
      "text/html": "<div>\n<style scoped>\n    .dataframe tbody tr th:only-of-type {\n        vertical-align: middle;\n    }\n\n    .dataframe tbody tr th {\n        vertical-align: top;\n    }\n\n    .dataframe thead th {\n        text-align: right;\n    }\n</style>\n<table border=\"1\" class=\"dataframe\">\n  <thead>\n    <tr style=\"text-align: right;\">\n      <th></th>\n      <th>item_id</th>\n      <th>datetime</th>\n      <th>weight</th>\n      <th>watched_pct</th>\n      <th>title</th>\n      <th>genres</th>\n      <th>views</th>\n    </tr>\n  </thead>\n  <tbody>\n    <tr>\n      <th>0</th>\n      <td>1183</td>\n      <td>2021-06-02</td>\n      <td>40.0</td>\n      <td>1.0</td>\n      <td>Стань легендой! Бигфут Младший</td>\n      <td>мультфильм, фэнтези, приключения, комедии</td>\n      <td>1587</td>\n    </tr>\n    <tr>\n      <th>1</th>\n      <td>13371</td>\n      <td>2021-05-04</td>\n      <td>686.0</td>\n      <td>11.0</td>\n      <td>Пеле: Рождение легенды</td>\n      <td>драмы, спорт, биография</td>\n      <td>945</td>\n    </tr>\n    <tr>\n      <th>2</th>\n      <td>4725</td>\n      <td>2021-06-02</td>\n      <td>255.0</td>\n      <td>4.0</td>\n      <td>Лобановский навсегда</td>\n      <td>спорт, биография, документальное</td>\n      <td>683</td>\n    </tr>\n    <tr>\n      <th>3</th>\n      <td>1238</td>\n      <td>2021-06-02</td>\n      <td>556.0</td>\n      <td>7.0</td>\n      <td>Диего Марадона</td>\n      <td>спорт, биография, документальное</td>\n      <td>691</td>\n    </tr>\n  </tbody>\n</table>\n</div>"
     },
     "metadata": {},
     "output_type": "display_data"
    },
    {
     "name": "stdout",
     "output_type": "stream",
     "text": [
      "Recomended films amount: 10\n",
      "(Amount of all films: 15706)\n"
     ]
    },
    {
     "data": {
      "text/plain": "   item_id     score  rank                         title  \\\n0    10440  202457.0     1                   Хрустальный   \n1    15297  193123.0     2               Клиника счастья   \n2     9728  132865.0     3             Гнев человеческий   \n3    13865  122119.0     4                      Девятаев   \n4     4151   91167.0     5        Секреты семейной жизни   \n5     3734   74803.0     6  Прабабушка легкого поведения   \n6     2657   68581.0     7                    Подслушано   \n7     4880   55043.0     8                         Афера   \n8      142   45367.0     9                          Маша   \n9     6809   40372.0    10                         Дуров   \n\n                        genres   views  \n0          триллеры, детективы  202457  \n1             драмы, мелодрамы  193123  \n2            боевики, триллеры  132865  \n3  драмы, военные, приключения  122119  \n4                      комедии   91167  \n5                      комедии   74803  \n6              драмы, триллеры   68581  \n7                      комедии   55043  \n8              драмы, триллеры   45367  \n9               документальное   40372  ",
      "text/html": "<div>\n<style scoped>\n    .dataframe tbody tr th:only-of-type {\n        vertical-align: middle;\n    }\n\n    .dataframe tbody tr th {\n        vertical-align: top;\n    }\n\n    .dataframe thead th {\n        text-align: right;\n    }\n</style>\n<table border=\"1\" class=\"dataframe\">\n  <thead>\n    <tr style=\"text-align: right;\">\n      <th></th>\n      <th>item_id</th>\n      <th>score</th>\n      <th>rank</th>\n      <th>title</th>\n      <th>genres</th>\n      <th>views</th>\n    </tr>\n  </thead>\n  <tbody>\n    <tr>\n      <th>0</th>\n      <td>10440</td>\n      <td>202457.0</td>\n      <td>1</td>\n      <td>Хрустальный</td>\n      <td>триллеры, детективы</td>\n      <td>202457</td>\n    </tr>\n    <tr>\n      <th>1</th>\n      <td>15297</td>\n      <td>193123.0</td>\n      <td>2</td>\n      <td>Клиника счастья</td>\n      <td>драмы, мелодрамы</td>\n      <td>193123</td>\n    </tr>\n    <tr>\n      <th>2</th>\n      <td>9728</td>\n      <td>132865.0</td>\n      <td>3</td>\n      <td>Гнев человеческий</td>\n      <td>боевики, триллеры</td>\n      <td>132865</td>\n    </tr>\n    <tr>\n      <th>3</th>\n      <td>13865</td>\n      <td>122119.0</td>\n      <td>4</td>\n      <td>Девятаев</td>\n      <td>драмы, военные, приключения</td>\n      <td>122119</td>\n    </tr>\n    <tr>\n      <th>4</th>\n      <td>4151</td>\n      <td>91167.0</td>\n      <td>5</td>\n      <td>Секреты семейной жизни</td>\n      <td>комедии</td>\n      <td>91167</td>\n    </tr>\n    <tr>\n      <th>5</th>\n      <td>3734</td>\n      <td>74803.0</td>\n      <td>6</td>\n      <td>Прабабушка легкого поведения</td>\n      <td>комедии</td>\n      <td>74803</td>\n    </tr>\n    <tr>\n      <th>6</th>\n      <td>2657</td>\n      <td>68581.0</td>\n      <td>7</td>\n      <td>Подслушано</td>\n      <td>драмы, триллеры</td>\n      <td>68581</td>\n    </tr>\n    <tr>\n      <th>7</th>\n      <td>4880</td>\n      <td>55043.0</td>\n      <td>8</td>\n      <td>Афера</td>\n      <td>комедии</td>\n      <td>55043</td>\n    </tr>\n    <tr>\n      <th>8</th>\n      <td>142</td>\n      <td>45367.0</td>\n      <td>9</td>\n      <td>Маша</td>\n      <td>драмы, триллеры</td>\n      <td>45367</td>\n    </tr>\n    <tr>\n      <th>9</th>\n      <td>6809</td>\n      <td>40372.0</td>\n      <td>10</td>\n      <td>Дуров</td>\n      <td>документальное</td>\n      <td>40372</td>\n    </tr>\n  </tbody>\n</table>\n</div>"
     },
     "metadata": {},
     "output_type": "display_data"
    }
   ],
   "source": [
    "for model_name in models:\n",
    "    print(f'==={model_name}===')\n",
    "    #extract model and train\n",
    "    model = deepcopy(models[model_name])\n",
    "    dataset_for_train = Dataset.construct(INTERACTIONS.df)\n",
    "    model.fit(dataset_for_train)\n",
    "    visualize(model,\n",
    "              dataset,\n",
    "              user_list,\n",
    "              item_data,\n",
    "              K_RECOS=10,\n",
    "              display=display)"
   ]
  }
 ],
 "metadata": {
  "kernelspec": {
   "display_name": "Python 3 (ipykernel)",
   "language": "python",
   "name": "python3"
  },
  "language_info": {
   "codemirror_mode": {
    "name": "ipython",
    "version": 3
   },
   "file_extension": ".py",
   "mimetype": "text/x-python",
   "name": "python",
   "nbconvert_exporter": "python",
   "pygments_lexer": "ipython3",
   "version": "3.9.18"
  }
 },
 "nbformat": 4,
 "nbformat_minor": 5
}
